{
 "cells":[
  {
   "cell_type":"markdown",
   "source":[
    "# Enter `Facebook prophet` 🔮\n",
    "\n",
    "[prophet](https:\/\/facebook.github.io\/prophet\/docs\/quick_start.html) is a **Python library** developed by Facebook for time series predictions. Reminder, that **time series** is the field of data analytics and data science that deals with *sequentially recorded data* (such as monthly sales, daily temperature, daily stock prices...)"
   ],
   "attachments":{
    
   },
   "metadata":{
    "datalore":{
     "node_id":"dA1YuXLTgq7oWijp6rHOds",
     "type":"MD",
     "hide_input_from_viewers":true,
     "hide_output_from_viewers":true
    }
   }
  },
  {
   "cell_type":"markdown",
   "source":[
    "# Setup ⚙️\n",
    "\n",
    "Before working on the code, let's **install `prophet` in this notebook**.\n",
    "\n",
    "The installation will **take a few minutes** so feel free to start the installation first, so you're ready to go when the exercises start 🚀\n",
    "\n",
    "ℹ️ Following the image below, click on the \"Environment\" tab (box icon) and in the \"Explore\" tab search for `prophet` - install the first package on the list and then click on the \"Restart Kernel\" button when it appears on the bottom right.\n",
    "\n",
    "<img src=\"https:\/\/wagon-public-datasets.s3.amazonaws.com\/sprints\/prophet-setup.png\" \/>\n",
    "\n",
    "\n",
    "Setup is done, you're ready to predict with Python!"
   ],
   "attachments":{
    
   },
   "metadata":{
    "datalore":{
     "node_id":"vNVX16I7RYfAGdRXUsokHs",
     "type":"MD",
     "hide_input_from_viewers":true,
     "hide_output_from_viewers":true
    }
   }
  },
  {
   "cell_type":"markdown",
   "source":[
    "**Quick reminder about Jupyter notebooks** \n",
    "\n",
    "* Type inside the empty cells to write code. These empty cells will have a `In [ ]:` prefix before\n",
    "* Press the `return\/enter ⏎` key to add a new line inside the cell\n",
    "* To display your results use the Python built in `print(STUFF_YOU_WANT_TO_PRINT)` method or simply put the stuff you want to print as the last line inside the cell. The result of the **last line** will appear as the `Out[]:` or the output of the cell :)\n",
    "* Press `shift` + `return\/enter ⏎` to run your code 🤓 this will run the code inside your currently selected cell and print anything inside `print()` method and the last line of your cell\n",
    "* To add a new cell, select any cell and press the `b` key (make sure you are not just typing the letter `b` in the cell). This will add a new cell below\n",
    "* To delete a cell, double press the `d` key (make sure you are not just typing the letter `d` in the cell)\n",
    "\n",
    "**Try to run the cells below!**"
   ],
   "attachments":{
    
   },
   "metadata":{
    "datalore":{
     "node_id":"hA302jsWmei8uUle9z7nXm",
     "type":"MD",
     "hide_input_from_viewers":true,
     "hide_output_from_viewers":true
    }
   }
  },
  {
   "cell_type":"code",
   "source":[
    "1 + 1"
   ],
   "execution_count":1,
   "outputs":[
    {
     "data":{
      "text\/plain":[
       "2"
      ]
     },
     "metadata":{
      
     },
     "output_type":"display_data"
    }
   ],
   "metadata":{
    "datalore":{
     "node_id":"I6jZ8T6NkMhPAsMsF6XtNG",
     "type":"CODE",
     "hide_input_from_viewers":true,
     "hide_output_from_viewers":true
    }
   }
  },
  {
   "cell_type":"code",
   "source":[
    "print(\"Are you ready to do your first prediction?\")\n",
    "\"Ready!\" # last line of each cell is automatically displayed as Output, no need for print()"
   ],
   "execution_count":2,
   "outputs":[
    {
     "name":"stdout",
     "text":[
      "Are you ready to do your first prediction?\n"
     ],
     "output_type":"stream"
    },
    {
     "data":{
      "text\/plain":[
       "'Ready!'"
      ]
     },
     "metadata":{
      
     },
     "output_type":"display_data"
    }
   ],
   "metadata":{
    "datalore":{
     "node_id":"BjN7VKCQxwxRgKBbUtzHD1",
     "type":"CODE",
     "hide_input_from_viewers":true,
     "hide_output_from_viewers":true
    }
   }
  },
  {
   "cell_type":"markdown",
   "source":[
    "## Our first prediction - sales forecasting 🚗"
   ],
   "attachments":{
    
   },
   "metadata":{
    "datalore":{
     "node_id":"FUzkXKHj3FBUq0YnXhwO3U",
     "type":"MD",
     "hide_input_from_viewers":true,
     "hide_output_from_viewers":true
    }
   }
  },
  {
   "cell_type":"code",
   "source":[
    "from prophet import Prophet\n",
    "import pandas as pd"
   ],
   "execution_count":3,
   "outputs":[
    
   ],
   "metadata":{
    "datalore":{
     "node_id":"BpAqRmhfHqxYUoAvS0ZVOt",
     "type":"CODE",
     "hide_input_from_viewers":true,
     "hide_output_from_viewers":true
    }
   }
  },
  {
   "cell_type":"markdown",
   "source":[
    "And importing our data. For this exercise, we will look at how Python and `fbprophet` can be used for **sales forecasting** - an important task in any business that wants to plan ahead.\n",
    "\n",
    "Let's look at monthly sales of a *unnamed* car company 😉"
   ],
   "attachments":{
    
   },
   "metadata":{
    "datalore":{
     "node_id":"o9k814iGzyZreDZpdpk2Rw",
     "type":"MD",
     "hide_input_from_viewers":true,
     "hide_output_from_viewers":true
    }
   }
  },
  {
   "cell_type":"code",
   "source":[
    "df = pd.read_csv('https:\/\/wagon-public-datasets.s3.amazonaws.com\/sprints\/prophet-monthly-car-sales.csv')\n",
    "df.tail()"
   ],
   "execution_count":4,
   "outputs":[
    {
     "data":{
      "text\/html":[
       "<div>\n",
       "<style scoped>\n",
       "    .dataframe tbody tr th:only-of-type {\n",
       "        vertical-align: middle;\n",
       "    }\n",
       "\n",
       "    .dataframe tbody tr th {\n",
       "        vertical-align: top;\n",
       "    }\n",
       "\n",
       "    .dataframe thead th {\n",
       "        text-align: right;\n",
       "    }\n",
       "<\/style>\n",
       "<table border=\"1\" class=\"dataframe\">\n",
       "  <thead>\n",
       "    <tr style=\"text-align: right;\">\n",
       "      <th><\/th>\n",
       "      <th>Month<\/th>\n",
       "      <th>Sales<\/th>\n",
       "    <\/tr>\n",
       "  <\/thead>\n",
       "  <tbody>\n",
       "    <tr>\n",
       "      <th>103<\/th>\n",
       "      <td>1968-08<\/td>\n",
       "      <td>16722<\/td>\n",
       "    <\/tr>\n",
       "    <tr>\n",
       "      <th>104<\/th>\n",
       "      <td>1968-09<\/td>\n",
       "      <td>14385<\/td>\n",
       "    <\/tr>\n",
       "    <tr>\n",
       "      <th>105<\/th>\n",
       "      <td>1968-10<\/td>\n",
       "      <td>21342<\/td>\n",
       "    <\/tr>\n",
       "    <tr>\n",
       "      <th>106<\/th>\n",
       "      <td>1968-11<\/td>\n",
       "      <td>17180<\/td>\n",
       "    <\/tr>\n",
       "    <tr>\n",
       "      <th>107<\/th>\n",
       "      <td>1968-12<\/td>\n",
       "      <td>14577<\/td>\n",
       "    <\/tr>\n",
       "  <\/tbody>\n",
       "<\/table>\n",
       "<\/div>"
      ]
     },
     "metadata":{
      
     },
     "output_type":"display_data"
    }
   ],
   "metadata":{
    "datalore":{
     "node_id":"WhTCzY1G84uzsFRmyC9bgf",
     "type":"CODE",
     "hide_input_from_viewers":true,
     "hide_output_from_viewers":true
    }
   }
  },
  {
   "cell_type":"markdown",
   "source":[
    "### Understanding our data"
   ],
   "attachments":{
    
   },
   "metadata":{
    "datalore":{
     "node_id":"GdLkTEisuLIZwDy2TbfhpT",
     "type":"MD",
     "hide_input_from_viewers":true,
     "hide_output_from_viewers":true
    }
   }
  },
  {
   "cell_type":"markdown",
   "source":[
    "Whenever we start with a new dataset, our first goal is to **explore** what's in it! 🔍"
   ],
   "attachments":{
    
   },
   "metadata":{
    "datalore":{
     "node_id":"9LUXGFaKLExiFz7hkaFckf",
     "type":"MD",
     "hide_input_from_viewers":true,
     "hide_output_from_viewers":true
    }
   }
  },
  {
   "cell_type":"markdown",
   "source":[
    "**Your turn! 🚀** Check how many rows and columns we have in the dataset."
   ],
   "attachments":{
    
   },
   "metadata":{
    "datalore":{
     "node_id":"fW7njO9vtmgYuHBPnP67De",
     "type":"MD",
     "hide_input_from_viewers":true,
     "hide_output_from_viewers":true
    }
   }
  },
  {
   "cell_type":"code",
   "source":[
    "# your code here\n",
    "df.shape"
   ],
   "execution_count":5,
   "outputs":[
    {
     "data":{
      "text\/plain":[
       "(108, 2)"
      ]
     },
     "metadata":{
      
     },
     "output_type":"display_data"
    }
   ],
   "metadata":{
    "datalore":{
     "node_id":"5LPejHYwRKuP04Xv1Ywt9v",
     "type":"CODE",
     "hide_input_from_viewers":true,
     "hide_output_from_viewers":true
    }
   }
  },
  {
   "cell_type":"markdown",
   "source":[
    "<details><summary>Solution<\/summary>\n",
    "    \n",
    "<pre>\n",
    "df.shape\n",
    "<\/pre>\n",
    "    \n",
    "<\/details>"
   ],
   "attachments":{
    
   },
   "metadata":{
    "datalore":{
     "node_id":"tBTWoN5E6CdP1ZLYKJp5MP",
     "type":"MD",
     "hide_input_from_viewers":true,
     "hide_output_from_viewers":true
    }
   }
  },
  {
   "cell_type":"markdown",
   "source":[
    "**Your turn! 🚀** Let's see what are the **data types** of our columns"
   ],
   "attachments":{
    
   },
   "metadata":{
    "datalore":{
     "node_id":"hnaAOUIFWXGHCQqzMBuhcR",
     "type":"MD",
     "hide_input_from_viewers":true,
     "hide_output_from_viewers":true
    }
   }
  },
  {
   "cell_type":"code",
   "source":[
    "# your code here\n",
    "# df.index\n",
    "# df.columns\n",
    "df.dtypes"
   ],
   "execution_count":6,
   "outputs":[
    {
     "data":{
      "text\/html":[
       "<pre>Month    object\n",
       "Sales     int64\n",
       "dtype: object<\/pre>"
      ]
     },
     "metadata":{
      
     },
     "output_type":"display_data"
    }
   ],
   "metadata":{
    "datalore":{
     "node_id":"JBhPIGd48lbyy1G1D8kQdF",
     "type":"CODE",
     "hide_input_from_viewers":true,
     "hide_output_from_viewers":true
    }
   }
  },
  {
   "cell_type":"markdown",
   "source":[
    "<details><summary>Solution<\/summary>\n",
    "    \n",
    "<pre>\n",
    "df.dtypes\n",
    "<\/pre>\n",
    "    \n",
    "<\/details>"
   ],
   "attachments":{
    
   },
   "metadata":{
    "datalore":{
     "node_id":"Xj2YHVpjLIuHZFtdU4VjvD",
     "type":"MD",
     "hide_input_from_viewers":true,
     "hide_output_from_viewers":true
    }
   }
  },
  {
   "cell_type":"markdown",
   "source":[
    "**Your turn! 🚀** Plot a **linechart** of the monthly sales using `df.plot()` function"
   ],
   "attachments":{
    
   },
   "metadata":{
    "datalore":{
     "node_id":"IhiXeavs6CFISiKPQZ8dJ6",
     "type":"MD",
     "hide_input_from_viewers":true,
     "hide_output_from_viewers":true
    }
   }
  },
  {
   "cell_type":"code",
   "source":[
    "# your code here\n",
    "# df.plot.line(x='Month', y='Sales')\n",
    "df.plot(x='Month', y='Sales', figsize=(15,6))"
   ],
   "execution_count":7,
   "outputs":[
    {
     "data":{
      "text\/plain":[
       "<Axes: xlabel='Month'>"
      ]
     },
     "metadata":{
      
     },
     "output_type":"display_data"
    },
    {
     "data":{
      "image\/png":"[encoded data removed]"
     },
     "metadata":{
      "image\/png":{
       
      }
     },
     "output_type":"display_data"
    }
   ],
   "metadata":{
    "datalore":{
     "node_id":"db2dNCAvZlYvBJcpnwvZYK",
     "type":"CODE",
     "hide_input_from_viewers":true,
     "hide_output_from_viewers":true
    }
   }
  },
  {
   "cell_type":"markdown",
   "source":[
    "<details><summary>Solution<\/summary>\n",
    "    \n",
    "<pre>\n",
    "df.plot(x='Month', y='Sales', figsize=(15,6)) # we change to figsize to make it bigger\n",
    "<\/pre>\n",
    "    \n",
    "<\/details>"
   ],
   "attachments":{
    
   },
   "metadata":{
    "datalore":{
     "node_id":"ZCX17vUqjg5dZ7HFzl7UOj",
     "type":"MD",
     "hide_input_from_viewers":true,
     "hide_output_from_viewers":true
    }
   }
  },
  {
   "cell_type":"markdown",
   "source":[
    "We can already start seeing some patterns, but let's see how we can use machines to make predictions for us!"
   ],
   "attachments":{
    
   },
   "metadata":{
    "datalore":{
     "node_id":"qTAvKxZ8t1MeiqP8L1Nwna",
     "type":"MD",
     "hide_input_from_viewers":true,
     "hide_output_from_viewers":true
    }
   }
  },
  {
   "cell_type":"markdown",
   "source":[
    "### Preparing our data for Prophet\n",
    "\n",
    "If we check the official [Prophet docs](https:\/\/facebook.github.io\/prophet\/docs\/quick_start.html) we will see that there's a few conditions it asks of us:\n",
    "\n",
    "1. Prophet needs the **datetime** column to be called `ds`\n",
    "2. Prophet needs the **observations** column to be called `y`"
   ],
   "attachments":{
    
   },
   "metadata":{
    "datalore":{
     "node_id":"cRmZw2wfGNgpmg0sle0BYU",
     "type":"MD",
     "hide_input_from_viewers":true,
     "hide_output_from_viewers":true
    }
   }
  },
  {
   "cell_type":"markdown",
   "source":[
    "First of all let's rename our columns correctly. That's as easy as just assigning a new list of columns, like this:\n",
    "\n",
    "```python\n",
    "df.columns = ['column1', 'column2']\n",
    "```"
   ],
   "attachments":{
    
   },
   "metadata":{
    "datalore":{
     "node_id":"LXM9MxmaBlsaJKU8kMhOHA",
     "type":"MD",
     "hide_input_from_viewers":true,
     "hide_output_from_viewers":true
    }
   }
  },
  {
   "cell_type":"code",
   "source":[
    "# your code here\n",
    "df.columns = ['ds', 'y']\n",
    "df"
   ],
   "execution_count":8,
   "outputs":[
    {
     "data":{
      "text\/html":[
       "<div>\n",
       "<style scoped>\n",
       "    .dataframe tbody tr th:only-of-type {\n",
       "        vertical-align: middle;\n",
       "    }\n",
       "\n",
       "    .dataframe tbody tr th {\n",
       "        vertical-align: top;\n",
       "    }\n",
       "\n",
       "    .dataframe thead th {\n",
       "        text-align: right;\n",
       "    }\n",
       "<\/style>\n",
       "<table border=\"1\" class=\"dataframe\">\n",
       "  <thead>\n",
       "    <tr style=\"text-align: right;\">\n",
       "      <th><\/th>\n",
       "      <th>ds<\/th>\n",
       "      <th>y<\/th>\n",
       "    <\/tr>\n",
       "  <\/thead>\n",
       "  <tbody>\n",
       "    <tr>\n",
       "      <th>0<\/th>\n",
       "      <td>1960-01<\/td>\n",
       "      <td>6550<\/td>\n",
       "    <\/tr>\n",
       "    <tr>\n",
       "      <th>1<\/th>\n",
       "      <td>1960-02<\/td>\n",
       "      <td>8728<\/td>\n",
       "    <\/tr>\n",
       "    <tr>\n",
       "      <th>2<\/th>\n",
       "      <td>1960-03<\/td>\n",
       "      <td>12026<\/td>\n",
       "    <\/tr>\n",
       "    <tr>\n",
       "      <th>3<\/th>\n",
       "      <td>1960-04<\/td>\n",
       "      <td>14395<\/td>\n",
       "    <\/tr>\n",
       "    <tr>\n",
       "      <th>4<\/th>\n",
       "      <td>1960-05<\/td>\n",
       "      <td>14587<\/td>\n",
       "    <\/tr>\n",
       "    <tr>\n",
       "      <th>...<\/th>\n",
       "      <td>...<\/td>\n",
       "      <td>...<\/td>\n",
       "    <\/tr>\n",
       "    <tr>\n",
       "      <th>103<\/th>\n",
       "      <td>1968-08<\/td>\n",
       "      <td>16722<\/td>\n",
       "    <\/tr>\n",
       "    <tr>\n",
       "      <th>104<\/th>\n",
       "      <td>1968-09<\/td>\n",
       "      <td>14385<\/td>\n",
       "    <\/tr>\n",
       "    <tr>\n",
       "      <th>105<\/th>\n",
       "      <td>1968-10<\/td>\n",
       "      <td>21342<\/td>\n",
       "    <\/tr>\n",
       "    <tr>\n",
       "      <th>106<\/th>\n",
       "      <td>1968-11<\/td>\n",
       "      <td>17180<\/td>\n",
       "    <\/tr>\n",
       "    <tr>\n",
       "      <th>107<\/th>\n",
       "      <td>1968-12<\/td>\n",
       "      <td>14577<\/td>\n",
       "    <\/tr>\n",
       "  <\/tbody>\n",
       "<\/table>\n",
       "<p>108 rows × 2 columns<\/p>\n",
       "<\/div>"
      ]
     },
     "metadata":{
      
     },
     "output_type":"display_data"
    }
   ],
   "metadata":{
    "datalore":{
     "node_id":"tYPPrUdkhUUjLqxwHzeYfE",
     "type":"CODE",
     "hide_input_from_viewers":true,
     "hide_output_from_viewers":true
    }
   }
  },
  {
   "cell_type":"markdown",
   "source":[
    "<details><summary>Solution<\/summary>\n",
    "    \n",
    "<pre>\n",
    "df.columns = ['ds', 'y']\n",
    "<\/pre>\n",
    "    \n",
    "<\/details>"
   ],
   "attachments":{
    
   },
   "metadata":{
    "datalore":{
     "node_id":"kxtCUubQOMBEnfLYYb6qU5",
     "type":"MD",
     "hide_input_from_viewers":true,
     "hide_output_from_viewers":true
    }
   }
  },
  {
   "cell_type":"markdown",
   "source":[
    "You might have noticed that our `Month` column (now called `ds`) doesn't have the right data type - it's current type is `object`. That's because `pandas` by default only sees text (which it calls `object`) and numbers.\n",
    "\n",
    "We can use the built-in [pandas.to_datetime()](https:\/\/pandas.pydata.org\/pandas-docs\/stable\/reference\/api\/pandas.to_datetime.html) function to quickly change that! Notice that by itself, `pd.to_datetime()` function creates a *copy* of the column, so we need to save it back to the original columns, like so:"
   ],
   "attachments":{
    
   },
   "metadata":{
    "datalore":{
     "node_id":"XtOgJBFnfRK621UlYoXWYM",
     "type":"MD",
     "hide_input_from_viewers":true,
     "hide_output_from_viewers":true
    }
   }
  },
  {
   "cell_type":"code",
   "source":[
    "df['ds'] = pd.to_datetime(df['ds'])\n",
    "df.dtypes"
   ],
   "execution_count":29,
   "outputs":[
    {
     "data":{
      "text\/html":[
       "<pre>ds    datetime64[ns]\n",
       "y              int64\n",
       "dtype: object<\/pre>"
      ]
     },
     "metadata":{
      
     },
     "output_type":"display_data"
    }
   ],
   "metadata":{
    "datalore":{
     "node_id":"vsRyKXuzZD0QnV6Q8xinOc",
     "type":"CODE",
     "hide_input_from_viewers":true,
     "hide_output_from_viewers":true
    }
   }
  },
  {
   "cell_type":"code",
   "source":[
    "# dt = datetime\n",
    "# df['ds'].dt.year\n",
    "# df['ds'].dt.month\n",
    "# df['ds'].dt.day"
   ],
   "execution_count":34,
   "outputs":[
    
   ],
   "metadata":{
    "datalore":{
     "node_id":"72dFCTQ3DPAF4Dy6OO5ljH",
     "type":"CODE",
     "hide_input_from_viewers":true,
     "hide_output_from_viewers":true
    }
   }
  },
  {
   "cell_type":"markdown",
   "source":[
    "Normally, we would also have to change our DataFrame to match the structure we saw in the slides like this one:\n",
    "\n",
    "<img src=\"https:\/\/wagon-public-datasets.s3.amazonaws.com\/sprints\/prophet-timeseriesdata.png\" width=350\/>"
   ],
   "attachments":{
    
   },
   "metadata":{
    "datalore":{
     "node_id":"lE1gzsUmBHTxCCIhh5E4Q3",
     "type":"MD",
     "hide_input_from_viewers":true,
     "hide_output_from_viewers":true
    }
   }
  },
  {
   "cell_type":"markdown",
   "source":[
    "**But** the amazing `prophet` does that for us! Which means we are ready to start **Machine Learning** 🤖"
   ],
   "attachments":{
    
   },
   "metadata":{
    "datalore":{
     "node_id":"klZxjRsFqz0490efj31Wq6",
     "type":"MD",
     "hide_input_from_viewers":true,
     "hide_output_from_viewers":true
    }
   }
  },
  {
   "cell_type":"markdown",
   "source":[
    "### Creating the Prophet prediction model"
   ],
   "attachments":{
    
   },
   "metadata":{
    "datalore":{
     "node_id":"hxH02tqYeWRG2Dc0VYTAwQ",
     "type":"MD",
     "hide_input_from_viewers":true,
     "hide_output_from_viewers":true
    }
   }
  },
  {
   "cell_type":"markdown",
   "source":[
    "All Machine Learning tasks consist of the same steps:\n",
    "\n",
    "1. Creating the model\n",
    "2. Training the model (that's what takes the most time)\n",
    "3. Using the model to predict\n",
    "4. Evaluating the performance of the model\n",
    "\n",
    "So, what are we waiting for?"
   ],
   "attachments":{
    
   },
   "metadata":{
    "datalore":{
     "node_id":"1JKetNO81ch8yW8tb5BTws",
     "type":"MD",
     "hide_input_from_viewers":true,
     "hide_output_from_viewers":true
    }
   }
  },
  {
   "cell_type":"markdown",
   "source":[
    "**1. Creating the model**"
   ],
   "attachments":{
    
   },
   "metadata":{
    "datalore":{
     "node_id":"t5pRCQUffWDgyEx3KPoskO",
     "type":"MD",
     "hide_input_from_viewers":true,
     "hide_output_from_viewers":true
    }
   }
  },
  {
   "cell_type":"markdown",
   "source":[
    "At the top of this notebook we imported the `Prophet` *class*. This class is the \"factory\" which can help us create Prophet models. This is how it looks like:"
   ],
   "attachments":{
    
   },
   "metadata":{
    "datalore":{
     "node_id":"SIUlBrQqwPSylDUXZ77uec",
     "type":"MD",
     "hide_input_from_viewers":true,
     "hide_output_from_viewers":true
    }
   }
  },
  {
   "cell_type":"code",
   "source":[
    "model = Prophet()"
   ],
   "execution_count":13,
   "outputs":[
    
   ],
   "metadata":{
    "datalore":{
     "node_id":"X3a7choPmr7kqm313a2dHe",
     "type":"CODE",
     "hide_input_from_viewers":true,
     "hide_output_from_viewers":true
    }
   }
  },
  {
   "cell_type":"markdown",
   "source":[
    "**2. Training the model**\n",
    "\n",
    "We have a `model` ready, but it is not trained yet. That's our next step - we will give it our `df` DataFrame to *fit* an algorithm, which the machine will observe fits best all the historic observations we have.\n",
    "\n",
    "> don't worry about the <span style='color: red;'>red text with `INFO`<\/span> that gets printed - it's just info logs to show you that the package is running"
   ],
   "attachments":{
    
   },
   "metadata":{
    "datalore":{
     "node_id":"8NLf3RGSnLaLz9t0aOUZdw",
     "type":"MD",
     "hide_input_from_viewers":true,
     "hide_output_from_viewers":true
    }
   }
  },
  {
   "cell_type":"code",
   "source":[
    "model.fit(df)"
   ],
   "execution_count":14,
   "outputs":[
    {
     "name":"stderr",
     "text":[
      "22:00:30 - cmdstanpy - INFO - Chain [1] start processing\n",
      "22:00:30 - cmdstanpy - INFO - Chain [1] done processing\n"
     ],
     "output_type":"stream"
    },
    {
     "data":{
      "text\/plain":[
       "<prophet.forecaster.Prophet at 0x7f4a182b7190>"
      ]
     },
     "metadata":{
      
     },
     "output_type":"display_data"
    }
   ],
   "metadata":{
    "datalore":{
     "node_id":"lXhS4z5E61ByYdtRvXhk2g",
     "type":"CODE",
     "hide_input_from_viewers":true,
     "hide_output_from_viewers":true
    }
   }
  },
  {
   "cell_type":"markdown",
   "source":[
    "**Boom 💥** our `model` has found a \"logic\" that best explains the historic sales data. Now the caveat of Machine Learning in general is that often that \"logic\" is a **black box** ◼️ The model finds a formula that works for it, but as people we don't have much visibility into it.\n",
    "\n",
    "But we can leverage it for **predictions!** 🔮"
   ],
   "attachments":{
    
   },
   "metadata":{
    "datalore":{
     "node_id":"AwS9Drg22dAHP5Jt9FuMVJ",
     "type":"MD",
     "hide_input_from_viewers":true,
     "hide_output_from_viewers":true
    }
   }
  },
  {
   "cell_type":"markdown",
   "source":[
    "### Forecasting and predictions"
   ],
   "attachments":{
    
   },
   "metadata":{
    "datalore":{
     "node_id":"udsbioRk93TQmMuaBeGfE7",
     "type":"MD",
     "hide_input_from_viewers":true,
     "hide_output_from_viewers":true
    }
   }
  },
  {
   "cell_type":"markdown",
   "source":[
    "When we talk about doing predictions programmatically, we talk about two types of predictions:\n",
    "\n",
    "1. **In-sample** - we remove part of our historic data, and predict it with the model, to see how well it does\n",
    "2. **Out-of-sample** (future predictions) - after verifying that our model \"makes sense\", we use it to generate future predictions"
   ],
   "attachments":{
    
   },
   "metadata":{
    "datalore":{
     "node_id":"PdO6M2Sg9JMATJsuTC35rx",
     "type":"MD",
     "hide_input_from_viewers":true,
     "hide_output_from_viewers":true
    }
   }
  },
  {
   "cell_type":"markdown",
   "source":[
    "**In-sample** - Let's take the last 12 months of our existing dataset, and see how close are our model's predictions to the real sales"
   ],
   "attachments":{
    
   },
   "metadata":{
    "datalore":{
     "node_id":"JBNsjVClmIIq13XtvkWjSy",
     "type":"MD",
     "hide_input_from_viewers":true,
     "hide_output_from_viewers":true
    }
   }
  },
  {
   "cell_type":"markdown",
   "source":[
    "We can slice our DataFrame not only by columns (ex. `df['column']`) but also by rows, like this:"
   ],
   "attachments":{
    
   },
   "metadata":{
    "datalore":{
     "node_id":"xIs2Ib94WkeQtWFfwOmOqC",
     "type":"MD",
     "hide_input_from_viewers":true,
     "hide_output_from_viewers":true
    }
   }
  },
  {
   "cell_type":"code",
   "source":[
    "df[100:102]"
   ],
   "execution_count":15,
   "outputs":[
    {
     "data":{
      "text\/html":[
       "<div>\n",
       "<style scoped>\n",
       "    .dataframe tbody tr th:only-of-type {\n",
       "        vertical-align: middle;\n",
       "    }\n",
       "\n",
       "    .dataframe tbody tr th {\n",
       "        vertical-align: top;\n",
       "    }\n",
       "\n",
       "    .dataframe thead th {\n",
       "        text-align: right;\n",
       "    }\n",
       "<\/style>\n",
       "<table border=\"1\" class=\"dataframe\">\n",
       "  <thead>\n",
       "    <tr style=\"text-align: right;\">\n",
       "      <th><\/th>\n",
       "      <th>ds<\/th>\n",
       "      <th>y<\/th>\n",
       "    <\/tr>\n",
       "  <\/thead>\n",
       "  <tbody>\n",
       "    <tr>\n",
       "      <th>100<\/th>\n",
       "      <td>1968-05-01<\/td>\n",
       "      <td>26099<\/td>\n",
       "    <\/tr>\n",
       "    <tr>\n",
       "      <th>101<\/th>\n",
       "      <td>1968-06-01<\/td>\n",
       "      <td>21084<\/td>\n",
       "    <\/tr>\n",
       "  <\/tbody>\n",
       "<\/table>\n",
       "<\/div>"
      ]
     },
     "metadata":{
      
     },
     "output_type":"display_data"
    }
   ],
   "metadata":{
    "datalore":{
     "node_id":"xmt4EyBPit6u0SWOAKOfHx",
     "type":"CODE",
     "hide_input_from_viewers":true,
     "hide_output_from_viewers":true
    }
   }
  },
  {
   "cell_type":"markdown",
   "source":[
    "**Your turn! 🚀** So how do we get the **last 12 months** of the our DataFrame? 🤔\n"
   ],
   "attachments":{
    
   },
   "metadata":{
    "datalore":{
     "node_id":"LERgw9k49nb8OWsTTxuZ6w",
     "type":"MD",
     "hide_input_from_viewers":true,
     "hide_output_from_viewers":true
    }
   }
  },
  {
   "cell_type":"code",
   "source":[
    "# your code here\n",
    "# sample = df[96:108]\n",
    "sample = df[-12:]\n",
    "sample"
   ],
   "execution_count":43,
   "outputs":[
    {
     "data":{
      "text\/html":[
       "<div>\n",
       "<style scoped>\n",
       "    .dataframe tbody tr th:only-of-type {\n",
       "        vertical-align: middle;\n",
       "    }\n",
       "\n",
       "    .dataframe tbody tr th {\n",
       "        vertical-align: top;\n",
       "    }\n",
       "\n",
       "    .dataframe thead th {\n",
       "        text-align: right;\n",
       "    }\n",
       "<\/style>\n",
       "<table border=\"1\" class=\"dataframe\">\n",
       "  <thead>\n",
       "    <tr style=\"text-align: right;\">\n",
       "      <th><\/th>\n",
       "      <th>ds<\/th>\n",
       "      <th>y<\/th>\n",
       "    <\/tr>\n",
       "  <\/thead>\n",
       "  <tbody>\n",
       "    <tr>\n",
       "      <th>96<\/th>\n",
       "      <td>1968-01-01<\/td>\n",
       "      <td>13210<\/td>\n",
       "    <\/tr>\n",
       "    <tr>\n",
       "      <th>97<\/th>\n",
       "      <td>1968-02-01<\/td>\n",
       "      <td>14251<\/td>\n",
       "    <\/tr>\n",
       "    <tr>\n",
       "      <th>98<\/th>\n",
       "      <td>1968-03-01<\/td>\n",
       "      <td>20139<\/td>\n",
       "    <\/tr>\n",
       "    <tr>\n",
       "      <th>99<\/th>\n",
       "      <td>1968-04-01<\/td>\n",
       "      <td>21725<\/td>\n",
       "    <\/tr>\n",
       "    <tr>\n",
       "      <th>100<\/th>\n",
       "      <td>1968-05-01<\/td>\n",
       "      <td>26099<\/td>\n",
       "    <\/tr>\n",
       "    <tr>\n",
       "      <th>101<\/th>\n",
       "      <td>1968-06-01<\/td>\n",
       "      <td>21084<\/td>\n",
       "    <\/tr>\n",
       "    <tr>\n",
       "      <th>102<\/th>\n",
       "      <td>1968-07-01<\/td>\n",
       "      <td>18024<\/td>\n",
       "    <\/tr>\n",
       "    <tr>\n",
       "      <th>103<\/th>\n",
       "      <td>1968-08-01<\/td>\n",
       "      <td>16722<\/td>\n",
       "    <\/tr>\n",
       "    <tr>\n",
       "      <th>104<\/th>\n",
       "      <td>1968-09-01<\/td>\n",
       "      <td>14385<\/td>\n",
       "    <\/tr>\n",
       "    <tr>\n",
       "      <th>105<\/th>\n",
       "      <td>1968-10-01<\/td>\n",
       "      <td>21342<\/td>\n",
       "    <\/tr>\n",
       "    <tr>\n",
       "      <th>106<\/th>\n",
       "      <td>1968-11-01<\/td>\n",
       "      <td>17180<\/td>\n",
       "    <\/tr>\n",
       "    <tr>\n",
       "      <th>107<\/th>\n",
       "      <td>1968-12-01<\/td>\n",
       "      <td>14577<\/td>\n",
       "    <\/tr>\n",
       "  <\/tbody>\n",
       "<\/table>\n",
       "<\/div>"
      ]
     },
     "metadata":{
      
     },
     "output_type":"display_data"
    }
   ],
   "metadata":{
    "datalore":{
     "node_id":"XZTGwZhW19JvvR75eYsZJo",
     "type":"CODE",
     "hide_input_from_viewers":true,
     "hide_output_from_viewers":true
    }
   }
  },
  {
   "cell_type":"markdown",
   "source":[
    "<details><summary>Solution<\/summary>\n",
    "    \n",
    "<pre>\n",
    "sample = df[96:108]\n",
    "sample\n",
    "<\/pre>\n",
    "    \n",
    "<\/details>"
   ],
   "attachments":{
    
   },
   "metadata":{
    "datalore":{
     "node_id":"dVLzUjnS1ueFHq0fmnY1Ij",
     "type":"MD",
     "hide_input_from_viewers":true,
     "hide_output_from_viewers":true
    }
   }
  },
  {
   "cell_type":"markdown",
   "source":[
    "We are now ready to create a **forecast** - a DataFrame with predictions from our Prophet model.\n",
    "\n",
    "*P.S.* we want the result to be a DataFrame with one column - `ds` - not just one list of dates. So we select the needed column below with double-brackets, like `[['ds]]`"
   ],
   "attachments":{
    
   },
   "metadata":{
    "datalore":{
     "node_id":"0y9roE9x482rxETiPI184K",
     "type":"MD",
     "hide_input_from_viewers":true,
     "hide_output_from_viewers":true
    }
   }
  },
  {
   "cell_type":"code",
   "source":[
    "forecast = model.predict(sample[['ds']])\n",
    "forecast.head()"
   ],
   "execution_count":38,
   "outputs":[
    {
     "data":{
      "text\/html":[
       "<div>\n",
       "<style scoped>\n",
       "    .dataframe tbody tr th:only-of-type {\n",
       "        vertical-align: middle;\n",
       "    }\n",
       "\n",
       "    .dataframe tbody tr th {\n",
       "        vertical-align: top;\n",
       "    }\n",
       "\n",
       "    .dataframe thead th {\n",
       "        text-align: right;\n",
       "    }\n",
       "<\/style>\n",
       "<table border=\"1\" class=\"dataframe\">\n",
       "  <thead>\n",
       "    <tr style=\"text-align: right;\">\n",
       "      <th><\/th>\n",
       "      <th>ds<\/th>\n",
       "      <th>trend<\/th>\n",
       "      <th>yhat_lower<\/th>\n",
       "      <th>yhat_upper<\/th>\n",
       "      <th>trend_lower<\/th>\n",
       "      <th>trend_upper<\/th>\n",
       "      <th>additive_terms<\/th>\n",
       "      <th>additive_terms_lower<\/th>\n",
       "      <th>additive_terms_upper<\/th>\n",
       "      <th>yearly<\/th>\n",
       "      <th>yearly_lower<\/th>\n",
       "      <th>yearly_upper<\/th>\n",
       "      <th>multiplicative_terms<\/th>\n",
       "      <th>multiplicative_terms_lower<\/th>\n",
       "      <th>multiplicative_terms_upper<\/th>\n",
       "      <th>yhat<\/th>\n",
       "    <\/tr>\n",
       "  <\/thead>\n",
       "  <tbody>\n",
       "    <tr>\n",
       "      <th>0<\/th>\n",
       "      <td>1968-01-01<\/td>\n",
       "      <td>17820.140687<\/td>\n",
       "      <td>12800.053216<\/td>\n",
       "      <td>15909.165713<\/td>\n",
       "      <td>17820.140687<\/td>\n",
       "      <td>17820.140687<\/td>\n",
       "      <td>-3462.551456<\/td>\n",
       "      <td>-3462.551456<\/td>\n",
       "      <td>-3462.551456<\/td>\n",
       "      <td>-3462.551456<\/td>\n",
       "      <td>-3462.551456<\/td>\n",
       "      <td>-3462.551456<\/td>\n",
       "      <td>0.0<\/td>\n",
       "      <td>0.0<\/td>\n",
       "      <td>0.0<\/td>\n",
       "      <td>14357.589231<\/td>\n",
       "    <\/tr>\n",
       "    <tr>\n",
       "      <th>1<\/th>\n",
       "      <td>1968-02-01<\/td>\n",
       "      <td>17875.817853<\/td>\n",
       "      <td>13333.977557<\/td>\n",
       "      <td>16451.205767<\/td>\n",
       "      <td>17875.817853<\/td>\n",
       "      <td>17875.817853<\/td>\n",
       "      <td>-2951.624176<\/td>\n",
       "      <td>-2951.624176<\/td>\n",
       "      <td>-2951.624176<\/td>\n",
       "      <td>-2951.624176<\/td>\n",
       "      <td>-2951.624176<\/td>\n",
       "      <td>-2951.624176<\/td>\n",
       "      <td>0.0<\/td>\n",
       "      <td>0.0<\/td>\n",
       "      <td>0.0<\/td>\n",
       "      <td>14924.193677<\/td>\n",
       "    <\/tr>\n",
       "    <tr>\n",
       "      <th>2<\/th>\n",
       "      <td>1968-03-01<\/td>\n",
       "      <td>17927.902944<\/td>\n",
       "      <td>19309.888343<\/td>\n",
       "      <td>22461.121093<\/td>\n",
       "      <td>17927.902944<\/td>\n",
       "      <td>17927.902944<\/td>\n",
       "      <td>2946.680899<\/td>\n",
       "      <td>2946.680899<\/td>\n",
       "      <td>2946.680899<\/td>\n",
       "      <td>2946.680899<\/td>\n",
       "      <td>2946.680899<\/td>\n",
       "      <td>2946.680899<\/td>\n",
       "      <td>0.0<\/td>\n",
       "      <td>0.0<\/td>\n",
       "      <td>0.0<\/td>\n",
       "      <td>20874.583843<\/td>\n",
       "    <\/tr>\n",
       "    <tr>\n",
       "      <th>3<\/th>\n",
       "      <td>1968-04-01<\/td>\n",
       "      <td>17983.580110<\/td>\n",
       "      <td>21323.609009<\/td>\n",
       "      <td>24367.940090<\/td>\n",
       "      <td>17983.580110<\/td>\n",
       "      <td>17983.580110<\/td>\n",
       "      <td>4915.186080<\/td>\n",
       "      <td>4915.186080<\/td>\n",
       "      <td>4915.186080<\/td>\n",
       "      <td>4915.186080<\/td>\n",
       "      <td>4915.186080<\/td>\n",
       "      <td>4915.186080<\/td>\n",
       "      <td>0.0<\/td>\n",
       "      <td>0.0<\/td>\n",
       "      <td>0.0<\/td>\n",
       "      <td>22898.766190<\/td>\n",
       "    <\/tr>\n",
       "    <tr>\n",
       "      <th>4<\/th>\n",
       "      <td>1968-05-01<\/td>\n",
       "      <td>18037.461239<\/td>\n",
       "      <td>22662.500249<\/td>\n",
       "      <td>25726.680496<\/td>\n",
       "      <td>18037.461239<\/td>\n",
       "      <td>18037.461239<\/td>\n",
       "      <td>6158.798635<\/td>\n",
       "      <td>6158.798635<\/td>\n",
       "      <td>6158.798635<\/td>\n",
       "      <td>6158.798635<\/td>\n",
       "      <td>6158.798635<\/td>\n",
       "      <td>6158.798635<\/td>\n",
       "      <td>0.0<\/td>\n",
       "      <td>0.0<\/td>\n",
       "      <td>0.0<\/td>\n",
       "      <td>24196.259875<\/td>\n",
       "    <\/tr>\n",
       "  <\/tbody>\n",
       "<\/table>\n",
       "<\/div>"
      ]
     },
     "metadata":{
      
     },
     "output_type":"display_data"
    }
   ],
   "metadata":{
    "datalore":{
     "node_id":"Rh5CK8q2itpPPNMSts0NG3",
     "type":"CODE",
     "hide_input_from_viewers":true,
     "hide_output_from_viewers":true
    }
   }
  },
  {
   "cell_type":"markdown",
   "source":[
    "Wow that's a lot of stuff 🤯 We will explore what is what in a minute, but first let's first **visualize** our predictions, which would be much more human."
   ],
   "attachments":{
    
   },
   "metadata":{
    "datalore":{
     "node_id":"HlDOGpSl3m54W7pjjkaxGq",
     "type":"MD",
     "hide_input_from_viewers":true,
     "hide_output_from_viewers":true
    }
   }
  },
  {
   "cell_type":"code",
   "source":[
    "model.plot(forecast);"
   ],
   "execution_count":41,
   "outputs":[
    {
     "data":{
      "image\/png":"[encoded data removed]"
     },
     "metadata":{
      "image\/png":{
       
      }
     },
     "output_type":"display_data"
    }
   ],
   "metadata":{
    "datalore":{
     "node_id":"o1mKgmUlcRgUpCuQimHemX",
     "type":"CODE",
     "hide_input_from_viewers":true,
     "hide_output_from_viewers":true
    }
   }
  },
  {
   "cell_type":"markdown",
   "source":[
    "The black dots in the chart above is the real data points. \n",
    "\n",
    "The <span style='color: darkblue;'>dark blue line<\/span> is the predicted value - it's a line chart between the `yhat` points that we saw in the `forecast` DataFrame above.\n",
    "\n",
    "The <span style='color: lightblue;'>light blue area<\/span> is the **confidence interval** - typically a 95% confidence window of the model prediction."
   ],
   "attachments":{
    
   },
   "metadata":{
    "datalore":{
     "node_id":"dPPd4vpCZYhtZb1pDnJm1P",
     "type":"MD",
     "hide_input_from_viewers":true,
     "hide_output_from_viewers":true
    }
   }
  },
  {
   "cell_type":"markdown",
   "source":[
    "**[Bonus 🥇]** We can also add a **line chart** for the historic data to make it more visual:"
   ],
   "attachments":{
    
   },
   "metadata":{
    "datalore":{
     "node_id":"w63qjibvkLjkai6KULAkHt",
     "type":"MD",
     "hide_input_from_viewers":true,
     "hide_output_from_viewers":true
    }
   }
  },
  {
   "cell_type":"code",
   "source":[
    "ax = model.plot(forecast).gca()\n",
    "df.plot(ax=ax, x='ds', y='y', label='actual', color='g');"
   ],
   "execution_count":44,
   "outputs":[
    {
     "data":{
      "image\/png":"[encoded data removed]"
     },
     "metadata":{
      "image\/png":{
       
      }
     },
     "output_type":"display_data"
    }
   ],
   "metadata":{
    "datalore":{
     "node_id":"EM7pO6rt0jQLAEXanHXLU5",
     "type":"CODE",
     "hide_input_from_viewers":true,
     "hide_output_from_viewers":true
    }
   }
  },
  {
   "cell_type":"markdown",
   "source":[
    "**[Bonus Bonus 💥]** Looks like our model is fitting quite well! But **how well?** 🤔\n",
    "\n",
    "We have the real data (`y` column) from our `sample`, and we have the predicted `yhat` from `forecast`.  Let's see the differences!"
   ],
   "attachments":{
    
   },
   "metadata":{
    "datalore":{
     "node_id":"RCGI3wETbGQjgPVHv53bm6",
     "type":"MD",
     "hide_input_from_viewers":true,
     "hide_output_from_viewers":true
    }
   }
  },
  {
   "cell_type":"code",
   "source":[
    "difference = abs(forecast['yhat'].values - sample['y'].values) # abs gives us the absolute number\n",
    "difference"
   ],
   "execution_count":45,
   "outputs":[
    {
     "data":{
      "text\/html":[
       "<pre>array([1147.58923119,  673.19367684,  735.58384279, 1173.76619013,\n",
       "       1902.74012549,   23.64072877,  397.98565707, 1395.42005947,\n",
       "        626.61488665, 3171.9054308 ,  260.50926769, 1101.86246126])<\/pre>"
      ]
     },
     "metadata":{
      
     },
     "output_type":"display_data"
    }
   ],
   "metadata":{
    "datalore":{
     "node_id":"u4YG1u4ORIxDjlN4ioO5JP",
     "type":"CODE",
     "hide_input_from_viewers":true,
     "hide_output_from_viewers":true
    }
   }
  },
  {
   "cell_type":"markdown",
   "source":[
    "From the above result we can see the **errors** - the difference between the predicted and actual car sales for the last 12 months.\n",
    "\n",
    "Considering our car sales those months are between 15,000 ~ 25,000 cars, getting errors <1000 cars for most months is pretty good (for 20 minutes of work)! 🥳"
   ],
   "attachments":{
    
   },
   "metadata":{
    "datalore":{
     "node_id":"Jtc9N11KDk936wXDnzBf4p",
     "type":"MD",
     "hide_input_from_viewers":true,
     "hide_output_from_viewers":true
    }
   }
  },
  {
   "cell_type":"markdown",
   "source":[
    "Remember that this was the **in-sample** prediction. Now let's move on to **future forecasting! 🕵️‍♂️**"
   ],
   "attachments":{
    
   },
   "metadata":{
    "datalore":{
     "node_id":"ZEUOYRrIBBOUkSxkOX55No",
     "type":"MD",
     "hide_input_from_viewers":true,
     "hide_output_from_viewers":true
    }
   }
  },
  {
   "cell_type":"markdown",
   "source":[
    "### Future Forecasting - out-of-sample (new data) predictions"
   ],
   "attachments":{
    
   },
   "metadata":{
    "datalore":{
     "node_id":"wRl31dwIDM4f8CRljkPPsl",
     "type":"MD",
     "hide_input_from_viewers":true,
     "hide_output_from_viewers":true
    }
   }
  },
  {
   "cell_type":"markdown",
   "source":[
    "Luckily `prophet` comes with some amazing tools for predictions, including the [`make_future_dataframe()`](https:\/\/facebook.github.io\/prophet\/docs\/non-daily_data.html) method which allows us to quickly create a set of future dates to use for prediction. And it automatically turns it into a `DataFrame` 🙌"
   ],
   "attachments":{
    
   },
   "metadata":{
    "datalore":{
     "node_id":"IOaNR5rK3P5hcZsHw8z8Gd",
     "type":"MD",
     "hide_input_from_viewers":true,
     "hide_output_from_viewers":true
    }
   }
  },
  {
   "cell_type":"code",
   "source":[
    "future = model.make_future_dataframe(freq='MS', periods=24)\n",
    "future"
   ],
   "execution_count":47,
   "outputs":[
    {
     "data":{
      "text\/html":[
       "<div>\n",
       "<style scoped>\n",
       "    .dataframe tbody tr th:only-of-type {\n",
       "        vertical-align: middle;\n",
       "    }\n",
       "\n",
       "    .dataframe tbody tr th {\n",
       "        vertical-align: top;\n",
       "    }\n",
       "\n",
       "    .dataframe thead th {\n",
       "        text-align: right;\n",
       "    }\n",
       "<\/style>\n",
       "<table border=\"1\" class=\"dataframe\">\n",
       "  <thead>\n",
       "    <tr style=\"text-align: right;\">\n",
       "      <th><\/th>\n",
       "      <th>ds<\/th>\n",
       "    <\/tr>\n",
       "  <\/thead>\n",
       "  <tbody>\n",
       "    <tr>\n",
       "      <th>0<\/th>\n",
       "      <td>1960-01-01<\/td>\n",
       "    <\/tr>\n",
       "    <tr>\n",
       "      <th>1<\/th>\n",
       "      <td>1960-02-01<\/td>\n",
       "    <\/tr>\n",
       "    <tr>\n",
       "      <th>2<\/th>\n",
       "      <td>1960-03-01<\/td>\n",
       "    <\/tr>\n",
       "    <tr>\n",
       "      <th>3<\/th>\n",
       "      <td>1960-04-01<\/td>\n",
       "    <\/tr>\n",
       "    <tr>\n",
       "      <th>4<\/th>\n",
       "      <td>1960-05-01<\/td>\n",
       "    <\/tr>\n",
       "    <tr>\n",
       "      <th>...<\/th>\n",
       "      <td>...<\/td>\n",
       "    <\/tr>\n",
       "    <tr>\n",
       "      <th>127<\/th>\n",
       "      <td>1970-08-01<\/td>\n",
       "    <\/tr>\n",
       "    <tr>\n",
       "      <th>128<\/th>\n",
       "      <td>1970-09-01<\/td>\n",
       "    <\/tr>\n",
       "    <tr>\n",
       "      <th>129<\/th>\n",
       "      <td>1970-10-01<\/td>\n",
       "    <\/tr>\n",
       "    <tr>\n",
       "      <th>130<\/th>\n",
       "      <td>1970-11-01<\/td>\n",
       "    <\/tr>\n",
       "    <tr>\n",
       "      <th>131<\/th>\n",
       "      <td>1970-12-01<\/td>\n",
       "    <\/tr>\n",
       "  <\/tbody>\n",
       "<\/table>\n",
       "<p>132 rows × 1 columns<\/p>\n",
       "<\/div>"
      ]
     },
     "metadata":{
      
     },
     "output_type":"display_data"
    }
   ],
   "metadata":{
    "datalore":{
     "node_id":"8pJ2Km4EwzR8CmpXcazjsm",
     "type":"CODE",
     "hide_input_from_viewers":true,
     "hide_output_from_viewers":true
    }
   }
  },
  {
   "cell_type":"markdown",
   "source":[
    "You'll see that what it does is **append** the new months to the existing data - very useful, since we want to connect the two for an uninterrupted chart."
   ],
   "attachments":{
    
   },
   "metadata":{
    "datalore":{
     "node_id":"JlSpc4Uw6Z5qDziJpQN3nA",
     "type":"MD",
     "hide_input_from_viewers":true,
     "hide_output_from_viewers":true
    }
   }
  },
  {
   "cell_type":"markdown",
   "source":[
    "🚀 The prediction code is the same as before, only now we will be using the `future` DataFrame, not the `sample` any more."
   ],
   "attachments":{
    
   },
   "metadata":{
    "datalore":{
     "node_id":"IXWETcvStS2uZc0WdepgLc",
     "type":"MD",
     "hide_input_from_viewers":true,
     "hide_output_from_viewers":true
    }
   }
  },
  {
   "cell_type":"code",
   "source":[
    "# Your code here\n",
    "future_forecast = model.predict(future)"
   ],
   "execution_count":49,
   "outputs":[
    
   ],
   "metadata":{
    "datalore":{
     "node_id":"LP6CzVFElbXWqhiLcTM0zp",
     "type":"CODE",
     "hide_input_from_viewers":true,
     "hide_output_from_viewers":true
    }
   }
  },
  {
   "cell_type":"markdown",
   "source":[
    "<details><summary>Solution<\/summary>\n",
    "    \n",
    "<pre>\n",
    "future_forecast = model.predict(future)\n",
    "<\/pre>\n",
    "    \n",
    "<\/details>"
   ],
   "attachments":{
    
   },
   "metadata":{
    "datalore":{
     "node_id":"XzuUmSsEI2zHSxwDA3VD2N",
     "type":"MD",
     "hide_input_from_viewers":true,
     "hide_output_from_viewers":true
    }
   }
  },
  {
   "cell_type":"markdown",
   "source":[
    "🚀 Let's go ahead and plot it same way as we did before with the `model`."
   ],
   "attachments":{
    
   },
   "metadata":{
    "datalore":{
     "node_id":"HLjQoe2nazd931oGCxXfEn",
     "type":"MD",
     "hide_input_from_viewers":true,
     "hide_output_from_viewers":true
    }
   }
  },
  {
   "cell_type":"code",
   "source":[
    "# Your code here\n",
    "model.plot(future_forecast);"
   ],
   "execution_count":51,
   "outputs":[
    {
     "data":{
      "image\/png":"[encoded data removed]"
     },
     "metadata":{
      "image\/png":{
       
      }
     },
     "output_type":"display_data"
    }
   ],
   "metadata":{
    "datalore":{
     "node_id":"I3xVFKO0JxFF1o7jXWJ2ij",
     "type":"CODE",
     "hide_input_from_viewers":true,
     "hide_output_from_viewers":true
    }
   }
  },
  {
   "cell_type":"markdown",
   "source":[
    "<details><summary>Solution<\/summary>\n",
    "    \n",
    "<pre>\n",
    "model.plot(future_forecast);\n",
    "<\/pre>\n",
    "    \n",
    "<\/details>"
   ],
   "attachments":{
    
   },
   "metadata":{
    "datalore":{
     "node_id":"3HGBeRMS64ZVy3j49qpPeU",
     "type":"MD",
     "hide_input_from_viewers":true,
     "hide_output_from_viewers":true
    }
   }
  },
  {
   "cell_type":"markdown",
   "source":[
    "### Congrats! 👏 This is your first prediction on unseen data!\n",
    "\n",
    "You can also see how the model looks for patterns in historic data, but without **overfitting** - you can see that some black dots are not covered by the blue area. Which is normal, because not every month of car sales follows the same pattern, we've all had better and worse months 😉\n",
    "\n",
    "**Let's explore our results further**"
   ],
   "attachments":{
    
   },
   "metadata":{
    "datalore":{
     "node_id":"pVR1b9cKS1VvoqioisqO4r",
     "type":"MD",
     "hide_input_from_viewers":true,
     "hide_output_from_viewers":true
    }
   }
  },
  {
   "cell_type":"markdown",
   "source":[
    "### Seasonality and Trend"
   ],
   "attachments":{
    
   },
   "metadata":{
    "datalore":{
     "node_id":"Bwecp1FuCXcJBz2jV0w4Vp",
     "type":"MD",
     "hide_input_from_viewers":true,
     "hide_output_from_viewers":true
    }
   }
  },
  {
   "cell_type":"markdown",
   "source":[
    "To understand our results better, we need to explore the **components** that influence our car sales. The main two are seasonality and trend:\n",
    "\n",
    "- **Seasonality** is the waves in our data. Looking at those can help find patterns of highs and lows.\n",
    "- **Trend** is the general direction of the data. This helps us see whether we're increasing or decreasing over time."
   ],
   "attachments":{
    
   },
   "metadata":{
    "datalore":{
     "node_id":"HMGhJlXs42dN0rrT1zl3iM",
     "type":"MD",
     "hide_input_from_viewers":true,
     "hide_output_from_viewers":true
    }
   }
  },
  {
   "cell_type":"markdown",
   "source":[
    "And again `prophet` has helpful functions ready to use - let's use the [`plot_components()`](https:\/\/facebook.github.io\/prophet\/docs\/seasonality,_holiday_effects,_and_regressors.html) function on our `model`."
   ],
   "attachments":{
    
   },
   "metadata":{
    "datalore":{
     "node_id":"TvzAZ0TBM6vtuI1holpW7C",
     "type":"MD",
     "hide_input_from_viewers":true,
     "hide_output_from_viewers":true
    }
   }
  },
  {
   "cell_type":"code",
   "source":[
    "model.plot_components(future_forecast);"
   ],
   "execution_count":52,
   "outputs":[
    {
     "data":{
      "image\/png":"[encoded data removed]"
     },
     "metadata":{
      "image\/png":{
       
      }
     },
     "output_type":"display_data"
    }
   ],
   "metadata":{
    "datalore":{
     "node_id":"pAJpYQIomi935PA10PtXrU",
     "type":"CODE",
     "hide_input_from_viewers":true,
     "hide_output_from_viewers":true
    }
   }
  },
  {
   "cell_type":"markdown",
   "source":[
    "**[Bonus 🥇]** We can make our plots interactive with another Python library called [Plotly](https:\/\/plotly.com\/python\/):"
   ],
   "attachments":{
    
   },
   "metadata":{
    "datalore":{
     "node_id":"OQIdwaCBPuWkAVbFI4aI4i",
     "type":"MD",
     "hide_input_from_viewers":true,
     "hide_output_from_viewers":true
    }
   }
  },
  {
   "cell_type":"code",
   "source":[
    "from prophet.plot import plot_plotly\n",
    "\n",
    "plot_plotly(model, future_forecast)"
   ],
   "execution_count":53,
   "outputs":[
    {
     "data":{
      "application\/vnd.plotly.v1+json":{
       "data":[
        {
         "marker":{
          "color":"black",
          "size":4
         },
         "mode":"markers",
         "name":"Actual",
         "x":[
          "1960-01-01T00:00:00",
          "1960-02-01T00:00:00",
          "1960-03-01T00:00:00",
          "1960-04-01T00:00:00",
          "1960-05-01T00:00:00",
          "1960-06-01T00:00:00",
          "1960-07-01T00:00:00",
          "1960-08-01T00:00:00",
          "1960-09-01T00:00:00",
          "1960-10-01T00:00:00",
          "1960-11-01T00:00:00",
          "1960-12-01T00:00:00",
          "1961-01-01T00:00:00",
          "1961-02-01T00:00:00",
          "1961-03-01T00:00:00",
          "1961-04-01T00:00:00",
          "1961-05-01T00:00:00",
          "1961-06-01T00:00:00",
          "1961-07-01T00:00:00",
          "1961-08-01T00:00:00",
          "1961-09-01T00:00:00",
          "1961-10-01T00:00:00",
          "1961-11-01T00:00:00",
          "1961-12-01T00:00:00",
          "1962-01-01T00:00:00",
          "1962-02-01T00:00:00",
          "1962-03-01T00:00:00",
          "1962-04-01T00:00:00",
          "1962-05-01T00:00:00",
          "1962-06-01T00:00:00",
          "1962-07-01T00:00:00",
          "1962-08-01T00:00:00",
          "1962-09-01T00:00:00",
          "1962-10-01T00:00:00",
          "1962-11-01T00:00:00",
          "1962-12-01T00:00:00",
          "1963-01-01T00:00:00",
          "1963-02-01T00:00:00",
          "1963-03-01T00:00:00",
          "1963-04-01T00:00:00",
          "1963-05-01T00:00:00",
          "1963-06-01T00:00:00",
          "1963-07-01T00:00:00",
          "1963-08-01T00:00:00",
          "1963-09-01T00:00:00",
          "1963-10-01T00:00:00",
          "1963-11-01T00:00:00",
          "1963-12-01T00:00:00",
          "1964-01-01T00:00:00",
          "1964-02-01T00:00:00",
          "1964-03-01T00:00:00",
          "1964-04-01T00:00:00",
          "1964-05-01T00:00:00",
          "1964-06-01T00:00:00",
          "1964-07-01T00:00:00",
          "1964-08-01T00:00:00",
          "1964-09-01T00:00:00",
          "1964-10-01T00:00:00",
          "1964-11-01T00:00:00",
          "1964-12-01T00:00:00",
          "1965-01-01T00:00:00",
          "1965-02-01T00:00:00",
          "1965-03-01T00:00:00",
          "1965-04-01T00:00:00",
          "1965-05-01T00:00:00",
          "1965-06-01T00:00:00",
          "1965-07-01T00:00:00",
          "1965-08-01T00:00:00",
          "1965-09-01T00:00:00",
          "1965-10-01T00:00:00",
          "1965-11-01T00:00:00",
          "1965-12-01T00:00:00",
          "1966-01-01T00:00:00",
          "1966-02-01T00:00:00",
          "1966-03-01T00:00:00",
          "1966-04-01T00:00:00",
          "1966-05-01T00:00:00",
          "1966-06-01T00:00:00",
          "1966-07-01T00:00:00",
          "1966-08-01T00:00:00",
          "1966-09-01T00:00:00",
          "1966-10-01T00:00:00",
          "1966-11-01T00:00:00",
          "1966-12-01T00:00:00",
          "1967-01-01T00:00:00",
          "1967-02-01T00:00:00",
          "1967-03-01T00:00:00",
          "1967-04-01T00:00:00",
          "1967-05-01T00:00:00",
          "1967-06-01T00:00:00",
          "1967-07-01T00:00:00",
          "1967-08-01T00:00:00",
          "1967-09-01T00:00:00",
          "1967-10-01T00:00:00",
          "1967-11-01T00:00:00",
          "1967-12-01T00:00:00",
          "1968-01-01T00:00:00",
          "1968-02-01T00:00:00",
          "1968-03-01T00:00:00",
          "1968-04-01T00:00:00",
          "1968-05-01T00:00:00",
          "1968-06-01T00:00:00",
          "1968-07-01T00:00:00",
          "1968-08-01T00:00:00",
          "1968-09-01T00:00:00",
          "1968-10-01T00:00:00",
          "1968-11-01T00:00:00",
          "1968-12-01T00:00:00"
         ],
         "y":[
          6550,
          8728,
          12026,
          14395,
          14587,
          13791,
          9498,
          8251,
          7049,
          9545,
          9364,
          8456,
          7237,
          9374,
          11837,
          13784,
          15926,
          13821,
          11143,
          7975,
          7610,
          10015,
          12759,
          8816,
          10677,
          10947,
          15200,
          17010,
          20900,
          16205,
          12143,
          8997,
          5568,
          11474,
          12256,
          10583,
          10862,
          10965,
          14405,
          20379,
          20128,
          17816,
          12268,
          8642,
          7962,
          13932,
          15936,
          12628,
          12267,
          12470,
          18944,
          21259,
          22015,
          18581,
          15175,
          10306,
          10792,
          14752,
          13754,
          11738,
          12181,
          12965,
          19990,
          23125,
          23541,
          21247,
          15189,
          14767,
          10895,
          17130,
          17697,
          16611,
          12674,
          12760,
          20249,
          22135,
          20677,
          19933,
          15388,
          15113,
          13401,
          16135,
          17562,
          14720,
          12225,
          11608,
          20985,
          19692,
          24081,
          22114,
          14220,
          13434,
          13598,
          17187,
          16119,
          13713,
          13210,
          14251,
          20139,
          21725,
          26099,
          21084,
          18024,
          16722,
          14385,
          21342,
          17180,
          14577
         ],
         "type":"scatter"
        },
        {
         "hoverinfo":"skip",
         "line":{
          "width":0
         },
         "mode":"lines",
         "x":[
          "1960-01-01T00:00:00",
          "1960-02-01T00:00:00",
          "1960-03-01T00:00:00",
          "1960-04-01T00:00:00",
          "1960-05-01T00:00:00",
          "1960-06-01T00:00:00",
          "1960-07-01T00:00:00",
          "1960-08-01T00:00:00",
          "1960-09-01T00:00:00",
          "1960-10-01T00:00:00",
          "1960-11-01T00:00:00",
          "1960-12-01T00:00:00",
          "1961-01-01T00:00:00",
          "1961-02-01T00:00:00",
          "1961-03-01T00:00:00",
          "1961-04-01T00:00:00",
          "1961-05-01T00:00:00",
          "1961-06-01T00:00:00",
          "1961-07-01T00:00:00",
          "1961-08-01T00:00:00",
          "1961-09-01T00:00:00",
          "1961-10-01T00:00:00",
          "1961-11-01T00:00:00",
          "1961-12-01T00:00:00",
          "1962-01-01T00:00:00",
          "1962-02-01T00:00:00",
          "1962-03-01T00:00:00",
          "1962-04-01T00:00:00",
          "1962-05-01T00:00:00",
          "1962-06-01T00:00:00",
          "1962-07-01T00:00:00",
          "1962-08-01T00:00:00",
          "1962-09-01T00:00:00",
          "1962-10-01T00:00:00",
          "1962-11-01T00:00:00",
          "1962-12-01T00:00:00",
          "1963-01-01T00:00:00",
          "1963-02-01T00:00:00",
          "1963-03-01T00:00:00",
          "1963-04-01T00:00:00",
          "1963-05-01T00:00:00",
          "1963-06-01T00:00:00",
          "1963-07-01T00:00:00",
          "1963-08-01T00:00:00",
          "1963-09-01T00:00:00",
          "1963-10-01T00:00:00",
          "1963-11-01T00:00:00",
          "1963-12-01T00:00:00",
          "1964-01-01T00:00:00",
          "1964-02-01T00:00:00",
          "1964-03-01T00:00:00",
          "1964-04-01T00:00:00",
          "1964-05-01T00:00:00",
          "1964-06-01T00:00:00",
          "1964-07-01T00:00:00",
          "1964-08-01T00:00:00",
          "1964-09-01T00:00:00",
          "1964-10-01T00:00:00",
          "1964-11-01T00:00:00",
          "1964-12-01T00:00:00",
          "1965-01-01T00:00:00",
          "1965-02-01T00:00:00",
          "1965-03-01T00:00:00",
          "1965-04-01T00:00:00",
          "1965-05-01T00:00:00",
          "1965-06-01T00:00:00",
          "1965-07-01T00:00:00",
          "1965-08-01T00:00:00",
          "1965-09-01T00:00:00",
          "1965-10-01T00:00:00",
          "1965-11-01T00:00:00",
          "1965-12-01T00:00:00",
          "1966-01-01T00:00:00",
          "1966-02-01T00:00:00",
          "1966-03-01T00:00:00",
          "1966-04-01T00:00:00",
          "1966-05-01T00:00:00",
          "1966-06-01T00:00:00",
          "1966-07-01T00:00:00",
          "1966-08-01T00:00:00",
          "1966-09-01T00:00:00",
          "1966-10-01T00:00:00",
          "1966-11-01T00:00:00",
          "1966-12-01T00:00:00",
          "1967-01-01T00:00:00",
          "1967-02-01T00:00:00",
          "1967-03-01T00:00:00",
          "1967-04-01T00:00:00",
          "1967-05-01T00:00:00",
          "1967-06-01T00:00:00",
          "1967-07-01T00:00:00",
          "1967-08-01T00:00:00",
          "1967-09-01T00:00:00",
          "1967-10-01T00:00:00",
          "1967-11-01T00:00:00",
          "1967-12-01T00:00:00",
          "1968-01-01T00:00:00",
          "1968-02-01T00:00:00",
          "1968-03-01T00:00:00",
          "1968-04-01T00:00:00",
          "1968-05-01T00:00:00",
          "1968-06-01T00:00:00",
          "1968-07-01T00:00:00",
          "1968-08-01T00:00:00",
          "1968-09-01T00:00:00",
          "1968-10-01T00:00:00",
          "1968-11-01T00:00:00",
          "1968-12-01T00:00:00",
          "1969-01-01T00:00:00",
          "1969-02-01T00:00:00",
          "1969-03-01T00:00:00",
          "1969-04-01T00:00:00",
          "1969-05-01T00:00:00",
          "1969-06-01T00:00:00",
          "1969-07-01T00:00:00",
          "1969-08-01T00:00:00",
          "1969-09-01T00:00:00",
          "1969-10-01T00:00:00",
          "1969-11-01T00:00:00",
          "1969-12-01T00:00:00",
          "1970-01-01T00:00:00",
          "1970-02-01T00:00:00",
          "1970-03-01T00:00:00",
          "1970-04-01T00:00:00",
          "1970-05-01T00:00:00",
          "1970-06-01T00:00:00",
          "1970-07-01T00:00:00",
          "1970-08-01T00:00:00",
          "1970-09-01T00:00:00",
          "1970-10-01T00:00:00",
          "1970-11-01T00:00:00",
          "1970-12-01T00:00:00"
         ],
         "y":[
          4568.797617432112,
          5104.7174541367385,
          11002.024570229994,
          13308.811709776393,
          14607.739220259069,
          11297.954088168011,
          8138.568661427502,
          5901.823928467345,
          4437.559818357469,
          8918.809553731973,
          8223.880178978181,
          6402.980322145156,
          6324.076442194695,
          7172.359823588802,
          12254.100005038877,
          14370.194124722726,
          15970.225184084333,
          13209.938007189712,
          8960.883884238774,
          6972.257026185342,
          5380.423834793536,
          9869.667176005405,
          9807.293133738274,
          7639.074102800259,
          7330.537411691086,
          8063.952366817921,
          13437.847768249023,
          15629.640751429071,
          17432.794775678885,
          15083.560740615905,
          9954.859827388766,
          7849.962626395846,
          6600.204650837696,
          11008.121408093519,
          11532.13853699816,
          9012.187594669484,
          8436.492023809109,
          9068.768936504497,
          14366.71945268529,
          16973.947418377014,
          18793.001197248286,
          16881.517357447174,
          10672.349044391613,
          8819.355003408253,
          7680.126822995169,
          12220.75970235351,
          13302.611855517474,
          10369.11576834566,
          9531.7016309828,
          10064.145831978789,
          16131.341758867698,
          18103.63950675852,
          19497.740174759125,
          16351.171517184206,
          12916.294244373468,
          10777.975973191527,
          9190.068893921216,
          13695.670476477675,
          13029.791356608232,
          11340.182000762079,
          11047.583153552805,
          11875.449300246068,
          17009.418013416136,
          19353.459411919965,
          20836.904782113073,
          18128.480301978605,
          13768.97678474391,
          11603.701325516515,
          10183.769168892559,
          14595.450910187921,
          14435.068871639745,
          12168.346282310795,
          11559.270599502495,
          12415.373534310498,
          17752.84230119174,
          19788.643151223692,
          21613.666298011725,
          19331.40048315436,
          14132.48187797767,
          12117.50050488645,
          10654.91639812401,
          14964.008764222897,
          15741.937586948648,
          12860.363368299852,
          12315.662106968108,
          12983.995474539915,
          18124.186650991433,
          20443.13997540567,
          22608.8269215863,
          20382.213888694427,
          14443.122084200797,
          12481.704427353689,
          11174.828966367406,
          15683.288271896214,
          16773.530942322443,
          13702.561834465947,
          12823.051344600617,
          13322.78649255335,
          19241.036420608358,
          21347.99944558441,
          22580.165292558322,
          19507.667710197657,
          16064.905613693387,
          13765.8794824984,
          12124.381319693484,
          16652.060804507277,
          15771.116637894447,
          14239.923792852407,
          13807.689918910131,
          14663.608943978015,
          19848.990257058253,
          22025.929161086773,
          23390.98330058433,
          20721.18541728366,
          16380.343438143773,
          14184.242279209851,
          12666.092418439917,
          17169.881040319495,
          17070.061426300457,
          14911.75215968264,
          14394.936369565174,
          15118.905774101926,
          20380.56630631113,
          22597.814998241,
          24217.01728532479,
          21929.7456020302,
          16737.278608440098,
          14698.343814930286,
          13295.254358566166,
          17863.51234018762,
          18180.593240244132,
          15520.661177754197
         ],
         "type":"scatter"
        },
        {
         "fill":"tonexty",
         "fillcolor":"rgba(0, 114, 178, 0.2)",
         "line":{
          "color":"#0072B2",
          "width":2
         },
         "mode":"lines",
         "name":"Predicted",
         "x":[
          "1960-01-01T00:00:00",
          "1960-02-01T00:00:00",
          "1960-03-01T00:00:00",
          "1960-04-01T00:00:00",
          "1960-05-01T00:00:00",
          "1960-06-01T00:00:00",
          "1960-07-01T00:00:00",
          "1960-08-01T00:00:00",
          "1960-09-01T00:00:00",
          "1960-10-01T00:00:00",
          "1960-11-01T00:00:00",
          "1960-12-01T00:00:00",
          "1961-01-01T00:00:00",
          "1961-02-01T00:00:00",
          "1961-03-01T00:00:00",
          "1961-04-01T00:00:00",
          "1961-05-01T00:00:00",
          "1961-06-01T00:00:00",
          "1961-07-01T00:00:00",
          "1961-08-01T00:00:00",
          "1961-09-01T00:00:00",
          "1961-10-01T00:00:00",
          "1961-11-01T00:00:00",
          "1961-12-01T00:00:00",
          "1962-01-01T00:00:00",
          "1962-02-01T00:00:00",
          "1962-03-01T00:00:00",
          "1962-04-01T00:00:00",
          "1962-05-01T00:00:00",
          "1962-06-01T00:00:00",
          "1962-07-01T00:00:00",
          "1962-08-01T00:00:00",
          "1962-09-01T00:00:00",
          "1962-10-01T00:00:00",
          "1962-11-01T00:00:00",
          "1962-12-01T00:00:00",
          "1963-01-01T00:00:00",
          "1963-02-01T00:00:00",
          "1963-03-01T00:00:00",
          "1963-04-01T00:00:00",
          "1963-05-01T00:00:00",
          "1963-06-01T00:00:00",
          "1963-07-01T00:00:00",
          "1963-08-01T00:00:00",
          "1963-09-01T00:00:00",
          "1963-10-01T00:00:00",
          "1963-11-01T00:00:00",
          "1963-12-01T00:00:00",
          "1964-01-01T00:00:00",
          "1964-02-01T00:00:00",
          "1964-03-01T00:00:00",
          "1964-04-01T00:00:00",
          "1964-05-01T00:00:00",
          "1964-06-01T00:00:00",
          "1964-07-01T00:00:00",
          "1964-08-01T00:00:00",
          "1964-09-01T00:00:00",
          "1964-10-01T00:00:00",
          "1964-11-01T00:00:00",
          "1964-12-01T00:00:00",
          "1965-01-01T00:00:00",
          "1965-02-01T00:00:00",
          "1965-03-01T00:00:00",
          "1965-04-01T00:00:00",
          "1965-05-01T00:00:00",
          "1965-06-01T00:00:00",
          "1965-07-01T00:00:00",
          "1965-08-01T00:00:00",
          "1965-09-01T00:00:00",
          "1965-10-01T00:00:00",
          "1965-11-01T00:00:00",
          "1965-12-01T00:00:00",
          "1966-01-01T00:00:00",
          "1966-02-01T00:00:00",
          "1966-03-01T00:00:00",
          "1966-04-01T00:00:00",
          "1966-05-01T00:00:00",
          "1966-06-01T00:00:00",
          "1966-07-01T00:00:00",
          "1966-08-01T00:00:00",
          "1966-09-01T00:00:00",
          "1966-10-01T00:00:00",
          "1966-11-01T00:00:00",
          "1966-12-01T00:00:00",
          "1967-01-01T00:00:00",
          "1967-02-01T00:00:00",
          "1967-03-01T00:00:00",
          "1967-04-01T00:00:00",
          "1967-05-01T00:00:00",
          "1967-06-01T00:00:00",
          "1967-07-01T00:00:00",
          "1967-08-01T00:00:00",
          "1967-09-01T00:00:00",
          "1967-10-01T00:00:00",
          "1967-11-01T00:00:00",
          "1967-12-01T00:00:00",
          "1968-01-01T00:00:00",
          "1968-02-01T00:00:00",
          "1968-03-01T00:00:00",
          "1968-04-01T00:00:00",
          "1968-05-01T00:00:00",
          "1968-06-01T00:00:00",
          "1968-07-01T00:00:00",
          "1968-08-01T00:00:00",
          "1968-09-01T00:00:00",
          "1968-10-01T00:00:00",
          "1968-11-01T00:00:00",
          "1968-12-01T00:00:00",
          "1969-01-01T00:00:00",
          "1969-02-01T00:00:00",
          "1969-03-01T00:00:00",
          "1969-04-01T00:00:00",
          "1969-05-01T00:00:00",
          "1969-06-01T00:00:00",
          "1969-07-01T00:00:00",
          "1969-08-01T00:00:00",
          "1969-09-01T00:00:00",
          "1969-10-01T00:00:00",
          "1969-11-01T00:00:00",
          "1969-12-01T00:00:00",
          "1970-01-01T00:00:00",
          "1970-02-01T00:00:00",
          "1970-03-01T00:00:00",
          "1970-04-01T00:00:00",
          "1970-05-01T00:00:00",
          "1970-06-01T00:00:00",
          "1970-07-01T00:00:00",
          "1970-08-01T00:00:00",
          "1970-09-01T00:00:00",
          "1970-10-01T00:00:00",
          "1970-11-01T00:00:00",
          "1970-12-01T00:00:00"
         ],
         "y":[
          6133.137379315149,
          6748.161557889833,
          12743.847603026872,
          14816.449683294002,
          16160.801176591649,
          13073.320309190101,
          9685.833189796998,
          7434.818523278222,
          5915.043432752845,
          10373.610698270637,
          9692.445133413303,
          7977.656139554341,
          7760.515521160276,
          8579.434389348455,
          13825.945475890454,
          16000.588007248021,
          17556.520265054918,
          14861.385206908388,
          10571.517851619,
          8447.326244887565,
          7001.848053113953,
          11484.674076469388,
          11428.076997614951,
          9291.100788580725,
          8860.541805455476,
          9605.198073767537,
          14912.135270974391,
          17192.132167092306,
          18958.02227201879,
          16640.749672029895,
          11445.385948369863,
          9460.77671608008,
          8094.837071150212,
          12606.039408865012,
          13166.659985891927,
          10594.791316620729,
          9953.349052565685,
          10630.004204529849,
          16002.593998978427,
          18391.077585657957,
          20364.935258227073,
          18410.832262461885,
          12307.83082283393,
          10475.59594451139,
          9194.258901243302,
          13737.667841990575,
          14907.580218863966,
          11888.539733034077,
          11039.113811478788,
          11654.007817236898,
          17649.57208780344,
          19722.04399525407,
          21064.64052813343,
          17975.34620163302,
          14586.104121821658,
          12330.950726432433,
          10807.0369062592,
          15261.598949536463,
          14576.294655030775,
          12854.132054376765,
          12629.372042294697,
          13440.671516794722,
          18666.935654658024,
          20819.161922073752,
          22353.401021226346,
          19635.849699138656,
          15305.143863850573,
          13138.752494454428,
          11651.07454001663,
          16087.043021161566,
          15982.026482021996,
          13798.19273077713,
          13319.213993295254,
          14015.450505279416,
          19278.653729028832,
          21510.230868818864,
          23229.26314537518,
          20863.57078940329,
          15621.349237372488,
          13588.320250194269,
          12173.96092241114,
          16638.305502526426,
          17150.506396700534,
          14531.779975452144,
          13841.918034355036,
          14470.153509276888,
          19799.009403974993,
          22139.073315930505,
          24066.0732387667,
          22063.55056827798,
          15913.692625125586,
          14033.039359827555,
          12703.283929584502,
          17199.836409192925,
          18321.330442889062,
          15255.433495920797,
          14357.589231188418,
          14924.19367683716,
          20874.5838427852,
          22898.76619012613,
          24196.259874511277,
          21060.359271233123,
          17626.014342926926,
          15326.579940531105,
          13758.385113350938,
          18170.09456920246,
          17440.509267690453,
          15678.862461263929,
          15413.302103217178,
          16183.801231752668,
          21386.578359898707,
          23512.801152270426,
          25021.875598154806,
          22278.32080102279,
          17941.595623758596,
          15768.984267653916,
          14275.08632650771,
          18711.054526516866,
          18606.037696870593,
          16422.20366448977,
          15943.224930572756,
          16639.461446121983,
          21902.664673091378,
          24134.241816446345,
          25853.27409633668,
          23487.58174381046,
          18245.360195113422,
          16212.331210286615,
          14797.971884854524,
          19262.31646724503,
          19774.51736377061,
          17155.7909421133
         ],
         "type":"scatter"
        },
        {
         "fill":"tonexty",
         "fillcolor":"rgba(0, 114, 178, 0.2)",
         "hoverinfo":"skip",
         "line":{
          "width":0
         },
         "mode":"lines",
         "x":[
          "1960-01-01T00:00:00",
          "1960-02-01T00:00:00",
          "1960-03-01T00:00:00",
          "1960-04-01T00:00:00",
          "1960-05-01T00:00:00",
          "1960-06-01T00:00:00",
          "1960-07-01T00:00:00",
          "1960-08-01T00:00:00",
          "1960-09-01T00:00:00",
          "1960-10-01T00:00:00",
          "1960-11-01T00:00:00",
          "1960-12-01T00:00:00",
          "1961-01-01T00:00:00",
          "1961-02-01T00:00:00",
          "1961-03-01T00:00:00",
          "1961-04-01T00:00:00",
          "1961-05-01T00:00:00",
          "1961-06-01T00:00:00",
          "1961-07-01T00:00:00",
          "1961-08-01T00:00:00",
          "1961-09-01T00:00:00",
          "1961-10-01T00:00:00",
          "1961-11-01T00:00:00",
          "1961-12-01T00:00:00",
          "1962-01-01T00:00:00",
          "1962-02-01T00:00:00",
          "1962-03-01T00:00:00",
          "1962-04-01T00:00:00",
          "1962-05-01T00:00:00",
          "1962-06-01T00:00:00",
          "1962-07-01T00:00:00",
          "1962-08-01T00:00:00",
          "1962-09-01T00:00:00",
          "1962-10-01T00:00:00",
          "1962-11-01T00:00:00",
          "1962-12-01T00:00:00",
          "1963-01-01T00:00:00",
          "1963-02-01T00:00:00",
          "1963-03-01T00:00:00",
          "1963-04-01T00:00:00",
          "1963-05-01T00:00:00",
          "1963-06-01T00:00:00",
          "1963-07-01T00:00:00",
          "1963-08-01T00:00:00",
          "1963-09-01T00:00:00",
          "1963-10-01T00:00:00",
          "1963-11-01T00:00:00",
          "1963-12-01T00:00:00",
          "1964-01-01T00:00:00",
          "1964-02-01T00:00:00",
          "1964-03-01T00:00:00",
          "1964-04-01T00:00:00",
          "1964-05-01T00:00:00",
          "1964-06-01T00:00:00",
          "1964-07-01T00:00:00",
          "1964-08-01T00:00:00",
          "1964-09-01T00:00:00",
          "1964-10-01T00:00:00",
          "1964-11-01T00:00:00",
          "1964-12-01T00:00:00",
          "1965-01-01T00:00:00",
          "1965-02-01T00:00:00",
          "1965-03-01T00:00:00",
          "1965-04-01T00:00:00",
          "1965-05-01T00:00:00",
          "1965-06-01T00:00:00",
          "1965-07-01T00:00:00",
          "1965-08-01T00:00:00",
          "1965-09-01T00:00:00",
          "1965-10-01T00:00:00",
          "1965-11-01T00:00:00",
          "1965-12-01T00:00:00",
          "1966-01-01T00:00:00",
          "1966-02-01T00:00:00",
          "1966-03-01T00:00:00",
          "1966-04-01T00:00:00",
          "1966-05-01T00:00:00",
          "1966-06-01T00:00:00",
          "1966-07-01T00:00:00",
          "1966-08-01T00:00:00",
          "1966-09-01T00:00:00",
          "1966-10-01T00:00:00",
          "1966-11-01T00:00:00",
          "1966-12-01T00:00:00",
          "1967-01-01T00:00:00",
          "1967-02-01T00:00:00",
          "1967-03-01T00:00:00",
          "1967-04-01T00:00:00",
          "1967-05-01T00:00:00",
          "1967-06-01T00:00:00",
          "1967-07-01T00:00:00",
          "1967-08-01T00:00:00",
          "1967-09-01T00:00:00",
          "1967-10-01T00:00:00",
          "1967-11-01T00:00:00",
          "1967-12-01T00:00:00",
          "1968-01-01T00:00:00",
          "1968-02-01T00:00:00",
          "1968-03-01T00:00:00",
          "1968-04-01T00:00:00",
          "1968-05-01T00:00:00",
          "1968-06-01T00:00:00",
          "1968-07-01T00:00:00",
          "1968-08-01T00:00:00",
          "1968-09-01T00:00:00",
          "1968-10-01T00:00:00",
          "1968-11-01T00:00:00",
          "1968-12-01T00:00:00",
          "1969-01-01T00:00:00",
          "1969-02-01T00:00:00",
          "1969-03-01T00:00:00",
          "1969-04-01T00:00:00",
          "1969-05-01T00:00:00",
          "1969-06-01T00:00:00",
          "1969-07-01T00:00:00",
          "1969-08-01T00:00:00",
          "1969-09-01T00:00:00",
          "1969-10-01T00:00:00",
          "1969-11-01T00:00:00",
          "1969-12-01T00:00:00",
          "1970-01-01T00:00:00",
          "1970-02-01T00:00:00",
          "1970-03-01T00:00:00",
          "1970-04-01T00:00:00",
          "1970-05-01T00:00:00",
          "1970-06-01T00:00:00",
          "1970-07-01T00:00:00",
          "1970-08-01T00:00:00",
          "1970-09-01T00:00:00",
          "1970-10-01T00:00:00",
          "1970-11-01T00:00:00",
          "1970-12-01T00:00:00"
         ],
         "y":[
          7837.895696898501,
          8336.699564085307,
          14300.712017475396,
          16381.327639051398,
          17647.425971152923,
          14639.774192399304,
          11124.180488454325,
          8912.541751126404,
          7476.654419494352,
          11934.542643554538,
          11291.72285278164,
          9580.311349404505,
          9454.056812834953,
          10162.389079883606,
          15374.572786201243,
          17556.036045096604,
          19126.359946408753,
          16378.37671722982,
          12095.454131695675,
          10033.462206002627,
          8502.192343623432,
          13055.984821355501,
          13003.257778128356,
          10855.986613147945,
          10374.089755408777,
          11336.070738661308,
          16502.168215770278,
          18813.863964765467,
          20555.76575656446,
          18272.4519530371,
          13047.619882141813,
          10942.692933363931,
          9686.677194314663,
          14053.066771408405,
          14798.126223926229,
          12243.046378785457,
          11626.911421979798,
          12054.850447130113,
          17670.833756767868,
          19958.64986801089,
          21931.08160714686,
          19977.724450244965,
          13843.338268061252,
          11993.451617054692,
          10629.539543838246,
          15309.517472251731,
          16464.781714915756,
          13405.53163767712,
          12549.003169503694,
          13216.519689798983,
          19322.815701488005,
          21191.963307862672,
          22641.308534587584,
          19589.94768360189,
          16179.340819680014,
          13896.608625864214,
          12326.963232576994,
          16783.522445798466,
          16343.394895345204,
          14408.720269097854,
          14265.28169490445,
          14939.797697070231,
          20306.21711494846,
          22341.521910729032,
          23946.4884544255,
          21237.960836196686,
          16846.40036688338,
          14678.703936897236,
          13256.184503631057,
          17680.283669853354,
          17563.82180775244,
          15248.72127323198,
          14872.590631179419,
          15509.911074218877,
          20917.786143135858,
          23106.113048068783,
          24823.348569926573,
          22460.709890084734,
          17189.523406458407,
          15184.331668286952,
          13843.665514328022,
          18135.846794250047,
          18752.413852632875,
          16051.97205130434,
          15482.833826421174,
          16068.370955806558,
          21316.795754047213,
          23689.292401855942,
          25558.637379826792,
          23602.715195934758,
          17503.963599277387,
          15536.355064398953,
          14290.676054551079,
          18749.578984400203,
          19948.039711985246,
          16723.164803705244,
          15919.950859146431,
          16477.880198109367,
          22515.26355559918,
          24505.39323088701,
          25716.637832100307,
          22740.904615900818,
          19194.154590243645,
          16901.30193026021,
          15197.721764329128,
          19759.422066765237,
          18849.25075478152,
          17270.199059119754,
          16879.805387906443,
          17745.588541006582,
          22862.963808606542,
          25009.828153561964,
          26507.73982901831,
          23880.833901978673,
          19563.831887512973,
          17331.546680265656,
          15824.731777622681,
          20343.032900916613,
          20147.34335207703,
          17834.749138684576,
          17598.56233982507,
          18196.442128317507,
          23522.597607904787,
          25670.02629069112,
          27441.532172743566,
          25058.468026269627,
          19787.985193619894,
          17736.257045119226,
          16421.38135323344,
          20892.642229524652,
          21311.384762048987,
          18684.726557070466
         ],
         "type":"scatter"
        }
       ],
       "layout":{
        "height":600,
        "showlegend":false,
        "width":900,
        "xaxis":{
         "rangeselector":{
          "buttons":[
           {
            "count":7,
            "label":"1w",
            "step":"day",
            "stepmode":"backward"
           },
           {
            "count":1,
            "label":"1m",
            "step":"month",
            "stepmode":"backward"
           },
           {
            "count":6,
            "label":"6m",
            "step":"month",
            "stepmode":"backward"
           },
           {
            "count":1,
            "label":"1y",
            "step":"year",
            "stepmode":"backward"
           },
           {
            "step":"all"
           }
          ]
         },
         "rangeslider":{
          "visible":true
         },
         "title":{
          "text":"ds"
         },
         "type":"date"
        },
        "yaxis":{
         "title":{
          "text":"y"
         }
        },
        "template":{
         "data":{
          "histogram2dcontour":[
           {
            "type":"histogram2dcontour",
            "colorbar":{
             "outlinewidth":0,
             "ticks":""
            },
            "colorscale":[
             [
              0,
              "#0d0887"
             ],
             [
              0.1111111111111111,
              "#46039f"
             ],
             [
              0.2222222222222222,
              "#7201a8"
             ],
             [
              0.3333333333333333,
              "#9c179e"
             ],
             [
              0.4444444444444444,
              "#bd3786"
             ],
             [
              0.5555555555555556,
              "#d8576b"
             ],
             [
              0.6666666666666666,
              "#ed7953"
             ],
             [
              0.7777777777777778,
              "#fb9f3a"
             ],
             [
              0.8888888888888888,
              "#fdca26"
             ],
             [
              1,
              "#f0f921"
             ]
            ]
           }
          ],
          "choropleth":[
           {
            "type":"choropleth",
            "colorbar":{
             "outlinewidth":0,
             "ticks":""
            }
           }
          ],
          "histogram2d":[
           {
            "type":"histogram2d",
            "colorbar":{
             "outlinewidth":0,
             "ticks":""
            },
            "colorscale":[
             [
              0,
              "#0d0887"
             ],
             [
              0.1111111111111111,
              "#46039f"
             ],
             [
              0.2222222222222222,
              "#7201a8"
             ],
             [
              0.3333333333333333,
              "#9c179e"
             ],
             [
              0.4444444444444444,
              "#bd3786"
             ],
             [
              0.5555555555555556,
              "#d8576b"
             ],
             [
              0.6666666666666666,
              "#ed7953"
             ],
             [
              0.7777777777777778,
              "#fb9f3a"
             ],
             [
              0.8888888888888888,
              "#fdca26"
             ],
             [
              1,
              "#f0f921"
             ]
            ]
           }
          ],
          "heatmap":[
           {
            "type":"heatmap",
            "colorbar":{
             "outlinewidth":0,
             "ticks":""
            },
            "colorscale":[
             [
              0,
              "#0d0887"
             ],
             [
              0.1111111111111111,
              "#46039f"
             ],
             [
              0.2222222222222222,
              "#7201a8"
             ],
             [
              0.3333333333333333,
              "#9c179e"
             ],
             [
              0.4444444444444444,
              "#bd3786"
             ],
             [
              0.5555555555555556,
              "#d8576b"
             ],
             [
              0.6666666666666666,
              "#ed7953"
             ],
             [
              0.7777777777777778,
              "#fb9f3a"
             ],
             [
              0.8888888888888888,
              "#fdca26"
             ],
             [
              1,
              "#f0f921"
             ]
            ]
           }
          ],
          "heatmapgl":[
           {
            "type":"heatmapgl",
            "colorbar":{
             "outlinewidth":0,
             "ticks":""
            },
            "colorscale":[
             [
              0,
              "#0d0887"
             ],
             [
              0.1111111111111111,
              "#46039f"
             ],
             [
              0.2222222222222222,
              "#7201a8"
             ],
             [
              0.3333333333333333,
              "#9c179e"
             ],
             [
              0.4444444444444444,
              "#bd3786"
             ],
             [
              0.5555555555555556,
              "#d8576b"
             ],
             [
              0.6666666666666666,
              "#ed7953"
             ],
             [
              0.7777777777777778,
              "#fb9f3a"
             ],
             [
              0.8888888888888888,
              "#fdca26"
             ],
             [
              1,
              "#f0f921"
             ]
            ]
           }
          ],
          "contourcarpet":[
           {
            "type":"contourcarpet",
            "colorbar":{
             "outlinewidth":0,
             "ticks":""
            }
           }
          ],
          "contour":[
           {
            "type":"contour",
            "colorbar":{
             "outlinewidth":0,
             "ticks":""
            },
            "colorscale":[
             [
              0,
              "#0d0887"
             ],
             [
              0.1111111111111111,
              "#46039f"
             ],
             [
              0.2222222222222222,
              "#7201a8"
             ],
             [
              0.3333333333333333,
              "#9c179e"
             ],
             [
              0.4444444444444444,
              "#bd3786"
             ],
             [
              0.5555555555555556,
              "#d8576b"
             ],
             [
              0.6666666666666666,
              "#ed7953"
             ],
             [
              0.7777777777777778,
              "#fb9f3a"
             ],
             [
              0.8888888888888888,
              "#fdca26"
             ],
             [
              1,
              "#f0f921"
             ]
            ]
           }
          ],
          "surface":[
           {
            "type":"surface",
            "colorbar":{
             "outlinewidth":0,
             "ticks":""
            },
            "colorscale":[
             [
              0,
              "#0d0887"
             ],
             [
              0.1111111111111111,
              "#46039f"
             ],
             [
              0.2222222222222222,
              "#7201a8"
             ],
             [
              0.3333333333333333,
              "#9c179e"
             ],
             [
              0.4444444444444444,
              "#bd3786"
             ],
             [
              0.5555555555555556,
              "#d8576b"
             ],
             [
              0.6666666666666666,
              "#ed7953"
             ],
             [
              0.7777777777777778,
              "#fb9f3a"
             ],
             [
              0.8888888888888888,
              "#fdca26"
             ],
             [
              1,
              "#f0f921"
             ]
            ]
           }
          ],
          "mesh3d":[
           {
            "type":"mesh3d",
            "colorbar":{
             "outlinewidth":0,
             "ticks":""
            }
           }
          ],
          "scatter":[
           {
            "fillpattern":{
             "fillmode":"overlay",
             "size":10,
             "solidity":0.2
            },
            "type":"scatter"
           }
          ],
          "parcoords":[
           {
            "type":"parcoords",
            "line":{
             "colorbar":{
              "outlinewidth":0,
              "ticks":""
             }
            }
           }
          ],
          "scatterpolargl":[
           {
            "type":"scatterpolargl",
            "marker":{
             "colorbar":{
              "outlinewidth":0,
              "ticks":""
             }
            }
           }
          ],
          "bar":[
           {
            "error_x":{
             "color":"#2a3f5f"
            },
            "error_y":{
             "color":"#2a3f5f"
            },
            "marker":{
             "line":{
              "color":"#E5ECF6",
              "width":0.5
             },
             "pattern":{
              "fillmode":"overlay",
              "size":10,
              "solidity":0.2
             }
            },
            "type":"bar"
           }
          ],
          "scattergeo":[
           {
            "type":"scattergeo",
            "marker":{
             "colorbar":{
              "outlinewidth":0,
              "ticks":""
             }
            }
           }
          ],
          "scatterpolar":[
           {
            "type":"scatterpolar",
            "marker":{
             "colorbar":{
              "outlinewidth":0,
              "ticks":""
             }
            }
           }
          ],
          "histogram":[
           {
            "marker":{
             "pattern":{
              "fillmode":"overlay",
              "size":10,
              "solidity":0.2
             }
            },
            "type":"histogram"
           }
          ],
          "scattergl":[
           {
            "type":"scattergl",
            "marker":{
             "colorbar":{
              "outlinewidth":0,
              "ticks":""
             }
            }
           }
          ],
          "scatter3d":[
           {
            "type":"scatter3d",
            "line":{
             "colorbar":{
              "outlinewidth":0,
              "ticks":""
             }
            },
            "marker":{
             "colorbar":{
              "outlinewidth":0,
              "ticks":""
             }
            }
           }
          ],
          "scattermapbox":[
           {
            "type":"scattermapbox",
            "marker":{
             "colorbar":{
              "outlinewidth":0,
              "ticks":""
             }
            }
           }
          ],
          "scatterternary":[
           {
            "type":"scatterternary",
            "marker":{
             "colorbar":{
              "outlinewidth":0,
              "ticks":""
             }
            }
           }
          ],
          "scattercarpet":[
           {
            "type":"scattercarpet",
            "marker":{
             "colorbar":{
              "outlinewidth":0,
              "ticks":""
             }
            }
           }
          ],
          "carpet":[
           {
            "aaxis":{
             "endlinecolor":"#2a3f5f",
             "gridcolor":"white",
             "linecolor":"white",
             "minorgridcolor":"white",
             "startlinecolor":"#2a3f5f"
            },
            "baxis":{
             "endlinecolor":"#2a3f5f",
             "gridcolor":"white",
             "linecolor":"white",
             "minorgridcolor":"white",
             "startlinecolor":"#2a3f5f"
            },
            "type":"carpet"
           }
          ],
          "table":[
           {
            "cells":{
             "fill":{
              "color":"#EBF0F8"
             },
             "line":{
              "color":"white"
             }
            },
            "header":{
             "fill":{
              "color":"#C8D4E3"
             },
             "line":{
              "color":"white"
             }
            },
            "type":"table"
           }
          ],
          "barpolar":[
           {
            "marker":{
             "line":{
              "color":"#E5ECF6",
              "width":0.5
             },
             "pattern":{
              "fillmode":"overlay",
              "size":10,
              "solidity":0.2
             }
            },
            "type":"barpolar"
           }
          ],
          "pie":[
           {
            "automargin":true,
            "type":"pie"
           }
          ]
         },
         "layout":{
          "autotypenumbers":"strict",
          "colorway":[
           "#636efa",
           "#EF553B",
           "#00cc96",
           "#ab63fa",
           "#FFA15A",
           "#19d3f3",
           "#FF6692",
           "#B6E880",
           "#FF97FF",
           "#FECB52"
          ],
          "font":{
           "color":"#2a3f5f"
          },
          "hovermode":"closest",
          "hoverlabel":{
           "align":"left"
          },
          "paper_bgcolor":"white",
          "plot_bgcolor":"#E5ECF6",
          "polar":{
           "bgcolor":"#E5ECF6",
           "angularaxis":{
            "gridcolor":"white",
            "linecolor":"white",
            "ticks":""
           },
           "radialaxis":{
            "gridcolor":"white",
            "linecolor":"white",
            "ticks":""
           }
          },
          "ternary":{
           "bgcolor":"#E5ECF6",
           "aaxis":{
            "gridcolor":"white",
            "linecolor":"white",
            "ticks":""
           },
           "baxis":{
            "gridcolor":"white",
            "linecolor":"white",
            "ticks":""
           },
           "caxis":{
            "gridcolor":"white",
            "linecolor":"white",
            "ticks":""
           }
          },
          "coloraxis":{
           "colorbar":{
            "outlinewidth":0,
            "ticks":""
           }
          },
          "colorscale":{
           "sequential":[
            [
             0,
             "#0d0887"
            ],
            [
             0.1111111111111111,
             "#46039f"
            ],
            [
             0.2222222222222222,
             "#7201a8"
            ],
            [
             0.3333333333333333,
             "#9c179e"
            ],
            [
             0.4444444444444444,
             "#bd3786"
            ],
            [
             0.5555555555555556,
             "#d8576b"
            ],
            [
             0.6666666666666666,
             "#ed7953"
            ],
            [
             0.7777777777777778,
             "#fb9f3a"
            ],
            [
             0.8888888888888888,
             "#fdca26"
            ],
            [
             1,
             "#f0f921"
            ]
           ],
           "sequentialminus":[
            [
             0,
             "#0d0887"
            ],
            [
             0.1111111111111111,
             "#46039f"
            ],
            [
             0.2222222222222222,
             "#7201a8"
            ],
            [
             0.3333333333333333,
             "#9c179e"
            ],
            [
             0.4444444444444444,
             "#bd3786"
            ],
            [
             0.5555555555555556,
             "#d8576b"
            ],
            [
             0.6666666666666666,
             "#ed7953"
            ],
            [
             0.7777777777777778,
             "#fb9f3a"
            ],
            [
             0.8888888888888888,
             "#fdca26"
            ],
            [
             1,
             "#f0f921"
            ]
           ],
           "diverging":[
            [
             0,
             "#8e0152"
            ],
            [
             0.1,
             "#c51b7d"
            ],
            [
             0.2,
             "#de77ae"
            ],
            [
             0.3,
             "#f1b6da"
            ],
            [
             0.4,
             "#fde0ef"
            ],
            [
             0.5,
             "#f7f7f7"
            ],
            [
             0.6,
             "#e6f5d0"
            ],
            [
             0.7,
             "#b8e186"
            ],
            [
             0.8,
             "#7fbc41"
            ],
            [
             0.9,
             "#4d9221"
            ],
            [
             1,
             "#276419"
            ]
           ]
          },
          "xaxis":{
           "gridcolor":"white",
           "linecolor":"white",
           "ticks":"",
           "title":{
            "standoff":15
           },
           "zerolinecolor":"white",
           "automargin":true,
           "zerolinewidth":2
          },
          "yaxis":{
           "gridcolor":"white",
           "linecolor":"white",
           "ticks":"",
           "title":{
            "standoff":15
           },
           "zerolinecolor":"white",
           "automargin":true,
           "zerolinewidth":2
          },
          "scene":{
           "xaxis":{
            "backgroundcolor":"#E5ECF6",
            "gridcolor":"white",
            "linecolor":"white",
            "showbackground":true,
            "ticks":"",
            "zerolinecolor":"white",
            "gridwidth":2
           },
           "yaxis":{
            "backgroundcolor":"#E5ECF6",
            "gridcolor":"white",
            "linecolor":"white",
            "showbackground":true,
            "ticks":"",
            "zerolinecolor":"white",
            "gridwidth":2
           },
           "zaxis":{
            "backgroundcolor":"#E5ECF6",
            "gridcolor":"white",
            "linecolor":"white",
            "showbackground":true,
            "ticks":"",
            "zerolinecolor":"white",
            "gridwidth":2
           }
          },
          "shapedefaults":{
           "line":{
            "color":"#2a3f5f"
           }
          },
          "annotationdefaults":{
           "arrowcolor":"#2a3f5f",
           "arrowhead":0,
           "arrowwidth":1
          },
          "geo":{
           "bgcolor":"white",
           "landcolor":"#E5ECF6",
           "subunitcolor":"white",
           "showland":true,
           "showlakes":true,
           "lakecolor":"white"
          },
          "title":{
           "x":0.05
          },
          "mapbox":{
           "style":"light"
          }
         }
        }
       },
       "config":{
        "plotlyServerURL":"https:\/\/plot.ly"
       }
      }
     },
     "metadata":{
      
     },
     "output_type":"display_data"
    }
   ],
   "metadata":{
    "datalore":{
     "node_id":"UbEaxzqARGfbmeXPyEwOeW",
     "type":"CODE",
     "hide_input_from_viewers":true,
     "hide_output_from_viewers":true
    }
   }
  },
  {
   "cell_type":"markdown",
   "source":[
    "### Model Evaluation\n",
    "\n",
    "We can't jump to conclusions on our model and trust it blindly. Even though we good a low error (difference) when looking at existing data, we need to look at some other important **metrics** to confidently say that our model can help the company! 🏎️"
   ],
   "attachments":{
    
   },
   "metadata":{
    "datalore":{
     "node_id":"mRmu4bRJj7RTspTKGBRJah",
     "type":"MD",
     "hide_input_from_viewers":true,
     "hide_output_from_viewers":true
    }
   }
  },
  {
   "cell_type":"markdown",
   "source":[
    "<img src='cv.png' width=500\/>"
   ],
   "attachments":{
    
   },
   "metadata":{
    "datalore":{
     "node_id":"f4huhwvVtObuTQq8PMISZ1",
     "type":"MD",
     "hide_input_from_viewers":true,
     "hide_output_from_viewers":true
    }
   }
  },
  {
   "cell_type":"markdown",
   "source":[
    "`prophet` comes with a handy [Diagnostics](https:\/\/facebook.github.io\/prophet\/docs\/diagnostics.html) library built in.\n",
    "\n",
    "Let's start by doing [cross-validation](https:\/\/en.wikipedia.org\/wiki\/Cross-validation_(statistics)) - a technique in statistics, to run through the same process multiple times (instead of just one like we did above), and see how consistent are our results. Run the below two cells:"
   ],
   "attachments":{
    
   },
   "metadata":{
    "datalore":{
     "node_id":"8eY0W4Bl8LXfG4Ww94bzA0",
     "type":"MD",
     "hide_input_from_viewers":true,
     "hide_output_from_viewers":true
    }
   }
  },
  {
   "cell_type":"code",
   "source":[
    "from prophet.diagnostics import cross_validation"
   ],
   "execution_count":54,
   "outputs":[
    
   ],
   "metadata":{
    "datalore":{
     "node_id":"zRXYADksc0jzraxKYGW1nU",
     "type":"CODE",
     "hide_input_from_viewers":true,
     "hide_output_from_viewers":true
    }
   }
  },
  {
   "cell_type":"code",
   "source":[
    "df_cv = cross_validation(model, period='180 days', horizon='365 days')"
   ],
   "execution_count":55,
   "outputs":[
    {
     "name":"stderr",
     "text":[
      "22:46:42 - cmdstanpy - INFO - Chain [1] start processing\n",
      "22:46:42 - cmdstanpy - INFO - Chain [1] done processing\n",
      "22:46:42 - cmdstanpy - INFO - Chain [1] start processing\n",
      "22:46:42 - cmdstanpy - INFO - Chain [1] done processing\n",
      "22:46:42 - cmdstanpy - INFO - Chain [1] start processing\n",
      "22:46:43 - cmdstanpy - INFO - Chain [1] done processing\n",
      "22:46:43 - cmdstanpy - INFO - Chain [1] start processing\n",
      "22:46:43 - cmdstanpy - INFO - Chain [1] done processing\n",
      "22:46:43 - cmdstanpy - INFO - Chain [1] start processing\n",
      "22:46:43 - cmdstanpy - INFO - Chain [1] done processing\n",
      "22:46:44 - cmdstanpy - INFO - Chain [1] start processing\n",
      "22:46:44 - cmdstanpy - INFO - Chain [1] done processing\n",
      "22:46:44 - cmdstanpy - INFO - Chain [1] start processing\n",
      "22:46:44 - cmdstanpy - INFO - Chain [1] done processing\n",
      "22:46:45 - cmdstanpy - INFO - Chain [1] start processing\n",
      "22:46:45 - cmdstanpy - INFO - Chain [1] done processing\n",
      "22:46:45 - cmdstanpy - INFO - Chain [1] start processing\n",
      "22:46:45 - cmdstanpy - INFO - Chain [1] done processing\n",
      "22:46:46 - cmdstanpy - INFO - Chain [1] start processing\n",
      "22:46:46 - cmdstanpy - INFO - Chain [1] done processing\n"
     ],
     "output_type":"stream"
    },
    {
     "data":{
      "application\/vnd.jupyter.widget-view+json":{
       "version_major":2,
       "version_minor":0,
       "model_id":"5125a4d7f56047798958901141cb1146"
      }
     },
     "metadata":{
      "application\/vnd.jupyter.widget-view+json":{
       "datalore":{
        "widget_id":"tIcYVxedf53P4ovVVYkGyI"
       }
      }
     },
     "output_type":"display_data"
    }
   ],
   "metadata":{
    "datalore":{
     "node_id":"ixmVYuSeAo6xhZe3WYQ9ig",
     "type":"CODE",
     "hide_input_from_viewers":true,
     "hide_output_from_viewers":true
    }
   }
  },
  {
   "cell_type":"markdown",
   "source":[
    "As we saw, this took longer than a regular model training and prediction. That's because it ran the process **10 times**, each time taking a piece of the data as the \"seen\" data, and predicting the next period, as though it is \"unseen\", trying to predict up to one year ahead each time. Robots are tricky, eh? 🤖"
   ],
   "attachments":{
    
   },
   "metadata":{
    "datalore":{
     "node_id":"bmAGreextmeXmduczTj3uj",
     "type":"MD",
     "hide_input_from_viewers":true,
     "hide_output_from_viewers":true
    }
   }
  },
  {
   "cell_type":"code",
   "source":[
    "df_cv"
   ],
   "execution_count":58,
   "outputs":[
    {
     "data":{
      "text\/html":[
       "<div>\n",
       "<style scoped>\n",
       "    .dataframe tbody tr th:only-of-type {\n",
       "        vertical-align: middle;\n",
       "    }\n",
       "\n",
       "    .dataframe tbody tr th {\n",
       "        vertical-align: top;\n",
       "    }\n",
       "\n",
       "    .dataframe thead th {\n",
       "        text-align: right;\n",
       "    }\n",
       "<\/style>\n",
       "<table border=\"1\" class=\"dataframe\">\n",
       "  <thead>\n",
       "    <tr style=\"text-align: right;\">\n",
       "      <th><\/th>\n",
       "      <th>ds<\/th>\n",
       "      <th>yhat<\/th>\n",
       "      <th>yhat_lower<\/th>\n",
       "      <th>yhat_upper<\/th>\n",
       "      <th>y<\/th>\n",
       "      <th>cutoff<\/th>\n",
       "    <\/tr>\n",
       "  <\/thead>\n",
       "  <tbody>\n",
       "    <tr>\n",
       "      <th>0<\/th>\n",
       "      <td>1963-07-01<\/td>\n",
       "      <td>13805.834994<\/td>\n",
       "      <td>12622.505081<\/td>\n",
       "      <td>14893.264961<\/td>\n",
       "      <td>12268<\/td>\n",
       "      <td>1963-06-26<\/td>\n",
       "    <\/tr>\n",
       "    <tr>\n",
       "      <th>1<\/th>\n",
       "      <td>1963-08-01<\/td>\n",
       "      <td>10199.552854<\/td>\n",
       "      <td>9109.712104<\/td>\n",
       "      <td>11278.927878<\/td>\n",
       "      <td>8642<\/td>\n",
       "      <td>1963-06-26<\/td>\n",
       "    <\/tr>\n",
       "    <tr>\n",
       "      <th>2<\/th>\n",
       "      <td>1963-09-01<\/td>\n",
       "      <td>6936.309554<\/td>\n",
       "      <td>5853.535968<\/td>\n",
       "      <td>8085.003986<\/td>\n",
       "      <td>7962<\/td>\n",
       "      <td>1963-06-26<\/td>\n",
       "    <\/tr>\n",
       "    <tr>\n",
       "      <th>3<\/th>\n",
       "      <td>1963-10-01<\/td>\n",
       "      <td>13997.753644<\/td>\n",
       "      <td>12847.929312<\/td>\n",
       "      <td>15016.444849<\/td>\n",
       "      <td>13932<\/td>\n",
       "      <td>1963-06-26<\/td>\n",
       "    <\/tr>\n",
       "    <tr>\n",
       "      <th>4<\/th>\n",
       "      <td>1963-11-01<\/td>\n",
       "      <td>15570.436281<\/td>\n",
       "      <td>14454.045776<\/td>\n",
       "      <td>16678.232200<\/td>\n",
       "      <td>15936<\/td>\n",
       "      <td>1963-06-26<\/td>\n",
       "    <\/tr>\n",
       "    <tr>\n",
       "      <th>...<\/th>\n",
       "      <td>...<\/td>\n",
       "      <td>...<\/td>\n",
       "      <td>...<\/td>\n",
       "      <td>...<\/td>\n",
       "      <td>...<\/td>\n",
       "      <td>...<\/td>\n",
       "    <\/tr>\n",
       "    <tr>\n",
       "      <th>115<\/th>\n",
       "      <td>1968-08-01<\/td>\n",
       "      <td>14785.206461<\/td>\n",
       "      <td>13214.543018<\/td>\n",
       "      <td>16427.565631<\/td>\n",
       "      <td>16722<\/td>\n",
       "      <td>1967-12-02<\/td>\n",
       "    <\/tr>\n",
       "    <tr>\n",
       "      <th>116<\/th>\n",
       "      <td>1968-09-01<\/td>\n",
       "      <td>13521.404315<\/td>\n",
       "      <td>12068.622063<\/td>\n",
       "      <td>15029.519981<\/td>\n",
       "      <td>14385<\/td>\n",
       "      <td>1967-12-02<\/td>\n",
       "    <\/tr>\n",
       "    <tr>\n",
       "      <th>117<\/th>\n",
       "      <td>1968-10-01<\/td>\n",
       "      <td>17058.064660<\/td>\n",
       "      <td>15474.772398<\/td>\n",
       "      <td>18593.974368<\/td>\n",
       "      <td>21342<\/td>\n",
       "      <td>1967-12-02<\/td>\n",
       "    <\/tr>\n",
       "    <tr>\n",
       "      <th>118<\/th>\n",
       "      <td>1968-11-01<\/td>\n",
       "      <td>17418.704369<\/td>\n",
       "      <td>15864.706348<\/td>\n",
       "      <td>18949.676591<\/td>\n",
       "      <td>17180<\/td>\n",
       "      <td>1967-12-02<\/td>\n",
       "    <\/tr>\n",
       "    <tr>\n",
       "      <th>119<\/th>\n",
       "      <td>1968-12-01<\/td>\n",
       "      <td>15808.946041<\/td>\n",
       "      <td>14388.854837<\/td>\n",
       "      <td>17339.078201<\/td>\n",
       "      <td>14577<\/td>\n",
       "      <td>1967-12-02<\/td>\n",
       "    <\/tr>\n",
       "  <\/tbody>\n",
       "<\/table>\n",
       "<p>120 rows × 6 columns<\/p>\n",
       "<\/div>"
      ]
     },
     "metadata":{
      
     },
     "output_type":"display_data"
    }
   ],
   "metadata":{
    "datalore":{
     "node_id":"mBV1E0LkXIpdCrX0bNYSQz",
     "type":"CODE",
     "hide_input_from_viewers":true,
     "hide_output_from_viewers":true
    }
   }
  },
  {
   "cell_type":"markdown",
   "source":[
    "If you look inside the `df_cv` variable, you'll see that we're storing a bunch of data about the real car sales throughout the years (`y` column), the predicted sales (`yhat`) as well as the `cutoff`s - the time blocks used to simulate \"unseen\" data, so we can better understand our model performance.\n",
    "\n",
    "You might notice already not everything is as rosy as it seemed 🥀 \n",
    "\n",
    "But we did **all this in 1 hour**! Imagine what **you can do with more time!!! 🤩**"
   ],
   "attachments":{
    
   },
   "metadata":{
    "datalore":{
     "node_id":"1ljyh84zD9DZeUGbkMDcLu",
     "type":"MD",
     "hide_input_from_viewers":true,
     "hide_output_from_viewers":true
    }
   }
  },
  {
   "cell_type":"markdown",
   "source":[
    "### Wrapping up - interpretation"
   ],
   "attachments":{
    
   },
   "metadata":{
    "datalore":{
     "node_id":"6eSyiE6nyIQpFiSGyFFav2",
     "type":"MD",
     "hide_input_from_viewers":true,
     "hide_output_from_viewers":true
    }
   }
  },
  {
   "cell_type":"markdown",
   "source":[
    "To close our current exploration and prediction, let's visualize the `mae` - [**Mean Absolute Error**](https:\/\/en.wikipedia.org\/wiki\/Mean_absolute_erro). This is the average difference that we're getting between the real car sales and predicted ones.\n",
    "\n",
    "Remember, when we looked at *in-sample* prediction, our average MAE was around 1000 cars. Let's see how much harder *real* predictions get 🙈"
   ],
   "attachments":{
    
   },
   "metadata":{
    "datalore":{
     "node_id":"VpHlR7j0fYptnCCWN5pzgG",
     "type":"MD",
     "hide_input_from_viewers":true,
     "hide_output_from_viewers":true
    }
   }
  },
  {
   "cell_type":"code",
   "source":[
    "from prophet.plot import plot_cross_validation_metric\n",
    "fig = plot_cross_validation_metric(df_cv, metric='mae')"
   ],
   "execution_count":59,
   "outputs":[
    {
     "data":{
      "image\/png":"[encoded data removed]"
     },
     "metadata":{
      "image\/png":{
       
      }
     },
     "output_type":"display_data"
    }
   ],
   "metadata":{
    "datalore":{
     "node_id":"eewg7vnhrlp9Fk61gbDuIn",
     "type":"CODE",
     "hide_input_from_viewers":true,
     "hide_output_from_viewers":true
    }
   }
  },
  {
   "cell_type":"markdown",
   "source":[
    "### Explaining these results to your boss 💹"
   ],
   "attachments":{
    
   },
   "metadata":{
    "datalore":{
     "node_id":"LFXfUfIEL37YrWNoW8XSVa",
     "type":"MD",
     "hide_input_from_viewers":true,
     "hide_output_from_viewers":true
    }
   }
  },
  {
   "cell_type":"markdown",
   "source":[
    "Let's explore the chart above:\n",
    "* Our horizontal (`x`) axis is how many days into the future we're predicting. As you can see, we tried to predict up to a maximum of 365 days (1 year). That's our **horizon**\n",
    "* Our vertical (`y`) axis is the **Mean Absolute Error** - the average error in our predictions in car sales. We can see we are typically making errors of around 1000-2000 cars.\n",
    "\n",
    "**Our best case interpretation:**\n",
    "\n",
    "We can see some clear highs and lows in our errors, which is not good. :( The main reason for that is that our data is `monthly` but we are doing our cross-validation `by day`. \n",
    "\n",
    "Still, it seems that **our predictions are best at `around 3 to 6 months into the future`, where we are able to `predict with 95% confidence the car sales, with an error of ±1300 cars`.**\n",
    "\n",
    "Before and after that the **volatility** (waviness) or errors becomes too big to say anything with certainty. Your boss will be happy you did your research 🤓"
   ],
   "attachments":{
    
   },
   "metadata":{
    "datalore":{
     "node_id":"zJ40FVUJaBsT6F5UUWrqwS",
     "type":"MD",
     "hide_input_from_viewers":true,
     "hide_output_from_viewers":true
    }
   }
  },
  {
   "cell_type":"markdown",
   "source":[
    "# Congrats on completing this challenge! 🙌 There's always more to learn!"
   ],
   "attachments":{
    
   },
   "metadata":{
    "datalore":{
     "node_id":"WHYhU4lhLehknVSuD3hGvU",
     "type":"MD",
     "hide_input_from_viewers":true,
     "hide_output_from_viewers":true
    }
   }
  },
  {
   "cell_type":"code",
   "source":[
    
   ],
   "execution_count":null,
   "outputs":[
    
   ],
   "metadata":{
    "datalore":{
     "node_id":"Sjygv7aU7k88D2fgEfjlFF",
     "type":"CODE",
     "hide_input_from_viewers":true,
     "hide_output_from_viewers":true
    }
   }
  }
 ],
 "metadata":{
  "kernelspec":{
   "display_name":"Python",
   "language":"python",
   "name":"python"
  },
  "datalore":{
   "computation_mode":"JUPYTER",
   "package_manager":"pip",
   "base_environment":"default",
   "packages":[
    {
     "name":"prophet",
     "version":"1.1.5",
     "source":"PIP"
    }
   ],
   "report_row_ids":[
    
   ],
   "version":3
  }
 },
 "nbformat":4,
 "nbformat_minor":4
}